{
  "cells": [
    {
      "cell_type": "markdown",
      "id": "pyJ9dt44oUNa",
      "metadata": {
        "id": "pyJ9dt44oUNa"
      },
      "source": [
        "# Lab 5. Transformers"
      ]
    },
    {
      "cell_type": "markdown",
      "id": "vUZk6CaMoUAx",
      "metadata": {
        "id": "vUZk6CaMoUAx"
      },
      "source": [
        "---\n",
        "\n",
        "How to Use This Notebook\n",
        "---\n",
        "\n",
        "**Recommended Setup**\n",
        "- For the best experience, **run this notebook on [Google Colab](https://colab.research.google.com/)**—especially if your local machine is slow.  \n",
        "- In Colab, **enable GPU support** by going to:  \n",
        "  `Runtime > Change runtime type > Hardware accelerator > GPU`\n",
        "\n",
        "\n",
        "**Homework Tasks**\n",
        "\n",
        " - Homework tasks are clearly marked throughout the notebook in the following format:\n",
        "\n",
        "   > ---\n",
        "\n",
        "   > <span style=\"color:red\"><b>TASK X</b> - [<i>some text</i>]:</span>\n",
        "\n",
        "   > ---\n",
        "\n",
        "   > ```Your code ....```\n",
        "\n",
        "   > ---\n",
        "\n",
        "   > *End of Task X.* [*Instructions for passing*]\n",
        "\n",
        " - For each task:\n",
        "   - **Complete the code** where indicated.\n",
        "   - **Upload the required results** from each task to **Homework 5 – Code** on [NextIlearn](https://nextilearn.dsv.su.se).\n",
        "\n",
        " - Once you've finished all the tasks:\n",
        "   Submit your **entire completed notebook (including your code!)** to **Homework 5 – Notebook** on [NextIlearn](https://nextilearn.dsv.su.se).\n",
        "\n",
        "**Important:**  \n",
        "Your submission will **only be graded if both files** (code + notebook) are uploaded **before the deadline**. Late submissions are **not accepted**, regardless of technical issues like bad internet connection.\n",
        "\n",
        "---"
      ]
    },
    {
      "cell_type": "markdown",
      "id": "b6e28aa0",
      "metadata": {
        "id": "b6e28aa0"
      },
      "source": [
        "This lab introduces students to working with pre-trained BERT embeddings, fine-tuning BERT for classification, and extending BERT with a simple autoregressive head.\n",
        "\n",
        "## Objectives\n",
        "- Extract contextual embeddings using a pre-trained BERT model.\n",
        "- Fine-tune BERT on a downstream classification task.\n",
        "- Build a simple autoregressive extension of BERT.\n"
      ]
    },
    {
      "cell_type": "code",
      "execution_count": 1,
      "id": "d84c506e",
      "metadata": {
        "id": "d84c506e"
      },
      "outputs": [],
      "source": [
        "%%capture\n",
        "# Install necessary libraries\n",
        "!pip install transformers torch scikit-learn datasets matplotlib\n",
        "!pip intall fsspec == 2023.9.2\n",
        "\n",
        "# Unzip data\n"
      ]
    },
    {
      "cell_type": "code",
      "execution_count": 2,
      "id": "wnko-0LjE032",
      "metadata": {
        "colab": {
          "base_uri": "https://localhost:8080/"
        },
        "id": "wnko-0LjE032",
        "outputId": "57a6a246-568e-4b42-c5b9-58c933818781"
      },
      "outputs": [
        {
          "output_type": "stream",
          "name": "stdout",
          "text": [
            "Archive:  data.zip\n",
            "replace data/task1/sentences.csv? [y]es, [n]o, [A]ll, [N]one, [r]ename: "
          ]
        }
      ],
      "source": [
        "!unzip data.zip"
      ]
    },
    {
      "cell_type": "markdown",
      "id": "5ooFpwyqf6gx",
      "metadata": {
        "id": "5ooFpwyqf6gx"
      },
      "source": []
    },
    {
      "cell_type": "code",
      "execution_count": 3,
      "id": "a4887e59",
      "metadata": {
        "id": "a4887e59"
      },
      "outputs": [],
      "source": [
        "# Import required libraries\n",
        "import torch\n",
        "import numpy as np\n",
        "import pandas as pd\n",
        "from tqdm import tqdm\n",
        "from datasets import load_dataset\n",
        "from torch.utils.data import DataLoader\n",
        "import torch.nn.functional as F\n",
        "import matplotlib as plt"
      ]
    },
    {
      "cell_type": "markdown",
      "id": "790f2cbc",
      "metadata": {
        "id": "790f2cbc"
      },
      "source": [
        "## 1. Using Pre-trained BERT Embeddings\n",
        "\n",
        "Let's load a pre-trained BERT model and extract token-level and sentence-level embeddings. [Huggingface's `transformers` library](https://huggingface.co/transformers]) provides easy access to most open source transformer models. The most convenient way is using their `Auto`-classes, which work with most models:\n",
        "\n",
        "* `transformers.AutoTokenizer` provides access to the pretrained tokenizer (i.e. including the vocabulary used for training the model)\n",
        "* `transformers.AutoModel` provides access to the pretrained model in its base configuration (i.e. including the trained parameters)\n",
        "\n",
        "Both provide the `.from_pretrained()` method, which automatically instantiates the correct class and downloads the pretrained data based on a model identifier:\n",
        "\n",
        "*   `'bert-base-uncased'`: normal sized BERT ([Devlin et al, 2019](https://doi.org/10.48550/arXiv.1810.04805))\n",
        "*   `'bert-small-uncased'`: a smaller version of BERT ([Devlin et al, 2019](https://doi.org/10.48550/arXiv.1810.04805))\n",
        "*   `'FacebookAI/xlm-roberta-base'`: a BERT-sized multilingual model ([Conneau et al, 2019](https://doi.org/10.48550/arXiv.1911.02116))\n",
        "*   `'gpt2'`: a predecessor of today's GPT-4o, the backbone of ChatGPT ([Radford et al, 2019](https://cdn.openai.com/better-language-models/language_models_are_unsupervised_multitask_learners.pdf))\n",
        "\n",
        "An extensive list of models can be found at [https://huggingface.co/models](https://huggingface.co/models)."
      ]
    },
    {
      "cell_type": "code",
      "execution_count": 4,
      "id": "0B0vQkfjsADL",
      "metadata": {
        "id": "0B0vQkfjsADL"
      },
      "outputs": [],
      "source": [
        "from transformers import AutoTokenizer, AutoModel"
      ]
    },
    {
      "cell_type": "markdown",
      "id": "wrfrfEyRsDwP",
      "metadata": {
        "id": "wrfrfEyRsDwP"
      },
      "source": [
        "### **1. Step:** Load the pretrained tokenizer\n",
        "\n",
        "*   List item:\n",
        "*   List item\n",
        "\n"
      ]
    },
    {
      "cell_type": "markdown",
      "id": "CVPfQuMLiNUY",
      "metadata": {
        "id": "CVPfQuMLiNUY"
      },
      "source": [
        "This downloads and loads the pretrained BERT tokenizer.\n",
        "\n",
        "Specifically, it loads the vocabulary and tokenization rules used by the 'bert-base-uncased' model.\n",
        "\n",
        "The tokenizer knows how to split text into tokens in the same way BERT was trained.\n",
        "\n",
        "➡️ Result: tokenizer is now an object of type transformers.BertTokenizerFast"
      ]
    },
    {
      "cell_type": "code",
      "execution_count": 5,
      "id": "WToDkmjCqXW5",
      "metadata": {
        "colab": {
          "base_uri": "https://localhost:8080/",
          "height": 482
        },
        "id": "WToDkmjCqXW5",
        "outputId": "94626182-94b1-4825-a509-20473130f8e2"
      },
      "outputs": [
        {
          "output_type": "stream",
          "name": "stderr",
          "text": [
            "/usr/local/lib/python3.11/dist-packages/huggingface_hub/utils/_auth.py:94: UserWarning: \n",
            "The secret `HF_TOKEN` does not exist in your Colab secrets.\n",
            "To authenticate with the Hugging Face Hub, create a token in your settings tab (https://huggingface.co/settings/tokens), set it as secret in your Google Colab and restart your session.\n",
            "You will be able to reuse this secret in all of your notebooks.\n",
            "Please note that authentication is recommended but still optional to access public models or datasets.\n",
            "  warnings.warn(\n"
          ]
        },
        {
          "output_type": "execute_result",
          "data": {
            "text/plain": [
              "transformers.models.bert.tokenization_bert_fast.BertTokenizerFast"
            ],
            "text/html": [
              "<div style=\"max-width:800px; border: 1px solid var(--colab-border-color);\"><style>\n",
              "      pre.function-repr-contents {\n",
              "        overflow-x: auto;\n",
              "        padding: 8px 12px;\n",
              "        max-height: 500px;\n",
              "      }\n",
              "\n",
              "      pre.function-repr-contents.function-repr-contents-collapsed {\n",
              "        cursor: pointer;\n",
              "        max-height: 100px;\n",
              "      }\n",
              "    </style>\n",
              "    <pre style=\"white-space: initial; background:\n",
              "         var(--colab-secondary-surface-color); padding: 8px 12px;\n",
              "         border-bottom: 1px solid var(--colab-border-color);\"><b>transformers.models.bert.tokenization_bert_fast.BertTokenizerFast</b><br/>def __call__(text: Union[TextInput, PreTokenizedInput, List[TextInput], List[PreTokenizedInput], None]=None, text_pair: Optional[Union[TextInput, PreTokenizedInput, List[TextInput], List[PreTokenizedInput]]]=None, text_target: Union[TextInput, PreTokenizedInput, List[TextInput], List[PreTokenizedInput], None]=None, text_pair_target: Optional[Union[TextInput, PreTokenizedInput, List[TextInput], List[PreTokenizedInput]]]=None, add_special_tokens: bool=True, padding: Union[bool, str, PaddingStrategy]=False, truncation: Union[bool, str, TruncationStrategy, None]=None, max_length: Optional[int]=None, stride: int=0, is_split_into_words: bool=False, pad_to_multiple_of: Optional[int]=None, padding_side: Optional[str]=None, return_tensors: Optional[Union[str, TensorType]]=None, return_token_type_ids: Optional[bool]=None, return_attention_mask: Optional[bool]=None, return_overflowing_tokens: bool=False, return_special_tokens_mask: bool=False, return_offsets_mapping: bool=False, return_length: bool=False, verbose: bool=True, **kwargs) -&gt; BatchEncoding</pre><pre class=\"function-repr-contents function-repr-contents-collapsed\" style=\"\"><a class=\"filepath\" style=\"display:none\" href=\"#\">/usr/local/lib/python3.11/dist-packages/transformers/models/bert/tokenization_bert_fast.py</a>Construct a &quot;fast&quot; BERT tokenizer (backed by HuggingFace&#x27;s *tokenizers* library). Based on WordPiece.\n",
              "\n",
              "This tokenizer inherits from [`PreTrainedTokenizerFast`] which contains most of the main methods. Users should\n",
              "refer to this superclass for more information regarding those methods.\n",
              "\n",
              "Args:\n",
              "    vocab_file (`str`):\n",
              "        File containing the vocabulary.\n",
              "    do_lower_case (`bool`, *optional*, defaults to `True`):\n",
              "        Whether or not to lowercase the input when tokenizing.\n",
              "    unk_token (`str`, *optional*, defaults to `&quot;[UNK]&quot;`):\n",
              "        The unknown token. A token that is not in the vocabulary cannot be converted to an ID and is set to be this\n",
              "        token instead.\n",
              "    sep_token (`str`, *optional*, defaults to `&quot;[SEP]&quot;`):\n",
              "        The separator token, which is used when building a sequence from multiple sequences, e.g. two sequences for\n",
              "        sequence classification or for a text and a question for question answering. It is also used as the last\n",
              "        token of a sequence built with special tokens.\n",
              "    pad_token (`str`, *optional*, defaults to `&quot;[PAD]&quot;`):\n",
              "        The token used for padding, for example when batching sequences of different lengths.\n",
              "    cls_token (`str`, *optional*, defaults to `&quot;[CLS]&quot;`):\n",
              "        The classifier token which is used when doing sequence classification (classification of the whole sequence\n",
              "        instead of per-token classification). It is the first token of the sequence when built with special tokens.\n",
              "    mask_token (`str`, *optional*, defaults to `&quot;[MASK]&quot;`):\n",
              "        The token used for masking values. This is the token used when training this model with masked language\n",
              "        modeling. This is the token which the model will try to predict.\n",
              "    clean_text (`bool`, *optional*, defaults to `True`):\n",
              "        Whether or not to clean the text before tokenization by removing any control characters and replacing all\n",
              "        whitespaces by the classic one.\n",
              "    tokenize_chinese_chars (`bool`, *optional*, defaults to `True`):\n",
              "        Whether or not to tokenize Chinese characters. This should likely be deactivated for Japanese (see [this\n",
              "        issue](https://github.com/huggingface/transformers/issues/328)).\n",
              "    strip_accents (`bool`, *optional*):\n",
              "        Whether or not to strip all accents. If this option is not specified, then it will be determined by the\n",
              "        value for `lowercase` (as in the original BERT).\n",
              "    wordpieces_prefix (`str`, *optional*, defaults to `&quot;##&quot;`):\n",
              "        The prefix for subwords.</pre>\n",
              "      <script>\n",
              "      if (google.colab.kernel.accessAllowed && google.colab.files && google.colab.files.view) {\n",
              "        for (const element of document.querySelectorAll('.filepath')) {\n",
              "          element.style.display = 'block'\n",
              "          element.onclick = (event) => {\n",
              "            event.preventDefault();\n",
              "            event.stopPropagation();\n",
              "            google.colab.files.view(element.textContent, 32);\n",
              "          };\n",
              "        }\n",
              "      }\n",
              "      for (const element of document.querySelectorAll('.function-repr-contents')) {\n",
              "        element.onclick = (event) => {\n",
              "          event.preventDefault();\n",
              "          event.stopPropagation();\n",
              "          element.classList.toggle('function-repr-contents-collapsed');\n",
              "        };\n",
              "      }\n",
              "      </script>\n",
              "      </div>"
            ]
          },
          "metadata": {},
          "execution_count": 5
        }
      ],
      "source": [
        "tokenizer = AutoTokenizer.from_pretrained('bert-base-uncased')\n",
        "type(tokenizer)"
      ]
    },
    {
      "cell_type": "markdown",
      "id": "Q758NTgLtF0-",
      "metadata": {
        "id": "Q758NTgLtF0-"
      },
      "source": [
        "Let's encode some sample sentences to see how it works:"
      ]
    },
    {
      "cell_type": "code",
      "execution_count": 6,
      "id": "2re-HJ80s750",
      "metadata": {
        "id": "2re-HJ80s750",
        "colab": {
          "base_uri": "https://localhost:8080/"
        },
        "outputId": "0316dda8-e50e-47f5-f940-bfdccd69c666"
      },
      "outputs": [
        {
          "output_type": "execute_result",
          "data": {
            "text/plain": [
              "{'input_ids': tensor([[  101,  1996,  4248,  ...,     0,     0,     0],\n",
              "        [  101,  1037, 26035,  ...,     0,     0,     0]]), 'token_type_ids': tensor([[0, 0, 0,  ..., 0, 0, 0],\n",
              "        [0, 0, 0,  ..., 0, 0, 0]]), 'attention_mask': tensor([[1, 1, 1,  ..., 0, 0, 0],\n",
              "        [1, 1, 1,  ..., 0, 0, 0]])}"
            ]
          },
          "metadata": {},
          "execution_count": 6
        }
      ],
      "source": [
        "sentences = [\"The quick brown fox jumps over the lazy dog.\", \"A stitch in time saves nine.\"] #refer notes in onenote\n",
        "\n",
        "# tokenize the sentences:\n",
        "inputs = tokenizer(sentences,\n",
        "  return_tensors='pt',    # return the output of this function as pytorch tensors.\n",
        "                          # Other options: 'np' -> numpy\n",
        "                          #                'tf' -> tensorflow\n",
        "\n",
        "  padding='max_length',   # pad the sentences to context length of the model.\n",
        "                          # Other options: 'longest' / True     -> pad to longest length in batch\n",
        "                          #                'do_not_pad' / False -> no padding\n",
        "\n",
        "  truncation=True         # Options: 'longest_first' / True    -> Truncate to a maximum length specified with the argument max_length or to the maximum acceptable input length for the model if that argument is not provided.\n",
        "                          #          'do_not_truncate' / False -> No truncation (i.e., can output batch with sequence lengths greater than the model maximum admissible input size)\n",
        ")\n",
        "\n",
        "inputs"
      ]
    },
    {
      "cell_type": "markdown",
      "id": "D5iAAznbx0Aa",
      "metadata": {
        "id": "D5iAAznbx0Aa"
      },
      "source": [
        "`inputs` is a dictionary-like object including all the information needed for the transformer:"
      ]
    },
    {
      "cell_type": "markdown",
      "id": "wnco6J7RysHZ",
      "metadata": {
        "id": "wnco6J7RysHZ"
      },
      "source": [
        "#### **Member `'input_ids'`**: the actual tokens!"
      ]
    },
    {
      "cell_type": "code",
      "execution_count": 7,
      "id": "BRhplnXczPiA",
      "metadata": {
        "id": "BRhplnXczPiA",
        "colab": {
          "base_uri": "https://localhost:8080/"
        },
        "outputId": "3acc66b8-c49e-4fd2-b72b-e8a157bb8364"
      },
      "outputs": [
        {
          "output_type": "execute_result",
          "data": {
            "text/plain": [
              "tensor([[  101,  1996,  4248,  ...,     0,     0,     0],\n",
              "        [  101,  1037, 26035,  ...,     0,     0,     0]])"
            ]
          },
          "metadata": {},
          "execution_count": 7
        }
      ],
      "source": [
        "# in encoded form:\n",
        "inputs['input_ids']"
      ]
    },
    {
      "cell_type": "code",
      "execution_count": 8,
      "id": "jWpxUahOyCPZ",
      "metadata": {
        "id": "jWpxUahOyCPZ",
        "colab": {
          "base_uri": "https://localhost:8080/"
        },
        "outputId": "5a16e17a-fc8f-460f-b9f4-b4f147ff8610"
      },
      "outputs": [
        {
          "output_type": "execute_result",
          "data": {
            "text/plain": [
              "torch.Size([2, 512])"
            ]
          },
          "metadata": {},
          "execution_count": 8
        }
      ],
      "source": [
        "# the shape is number of input texts x sequnece length:\n",
        "inputs['input_ids'].shape"
      ]
    },
    {
      "cell_type": "code",
      "execution_count": 9,
      "id": "d8xeWqkmzUHP",
      "metadata": {
        "id": "d8xeWqkmzUHP",
        "colab": {
          "base_uri": "https://localhost:8080/"
        },
        "outputId": "72f68749-0189-4a90-d58e-e751c6430658"
      },
      "outputs": [
        {
          "output_type": "execute_result",
          "data": {
            "text/plain": [
              "['[CLS] the quick brown fox jumps over the lazy dog. [SEP] [PAD] [PAD] [PAD] [PAD] [PAD] [PAD] [PAD] [PAD] [PAD] [PAD] [PAD] [PAD] [PAD] [PAD] [PAD] [PAD] [PAD] [PAD] [PAD] [PAD] [PAD] [PAD] [PAD] [PAD] [PAD] [PAD] [PAD] [PAD] [PAD] [PAD] [PAD] [PAD] [PAD] [PAD] [PAD] [PAD] [PAD] [PAD] [PAD] [PAD] [PAD] [PAD] [PAD] [PAD] [PAD] [PAD] [PAD] [PAD] [PAD] [PAD] [PAD] [PAD] [PAD] [PAD] [PAD] [PAD] [PAD] [PAD] [PAD] [PAD] [PAD] [PAD] [PAD] [PAD] [PAD] [PAD] [PAD] [PAD] [PAD] [PAD] [PAD] [PAD] [PAD] [PAD] [PAD] [PAD] [PAD] [PAD] [PAD] [PAD] [PAD] [PAD] [PAD] [PAD] [PAD] [PAD] [PAD] [PAD] [PAD] [PAD] [PAD] [PAD] [PAD] [PAD] [PAD] [PAD] [PAD] [PAD] [PAD] [PAD] [PAD] [PAD] [PAD] [PAD] [PAD] [PAD] [PAD] [PAD] [PAD] [PAD] [PAD] [PAD] [PAD] [PAD] [PAD] [PAD] [PAD] [PAD] [PAD] [PAD] [PAD] [PAD] [PAD] [PAD] [PAD] [PAD] [PAD] [PAD] [PAD] [PAD] [PAD] [PAD] [PAD] [PAD] [PAD] [PAD] [PAD] [PAD] [PAD] [PAD] [PAD] [PAD] [PAD] [PAD] [PAD] [PAD] [PAD] [PAD] [PAD] [PAD] [PAD] [PAD] [PAD] [PAD] [PAD] [PAD] [PAD] [PAD] [PAD] [PAD] [PAD] [PAD] [PAD] [PAD] [PAD] [PAD] [PAD] [PAD] [PAD] [PAD] [PAD] [PAD] [PAD] [PAD] [PAD] [PAD] [PAD] [PAD] [PAD] [PAD] [PAD] [PAD] [PAD] [PAD] [PAD] [PAD] [PAD] [PAD] [PAD] [PAD] [PAD] [PAD] [PAD] [PAD] [PAD] [PAD] [PAD] [PAD] [PAD] [PAD] [PAD] [PAD] [PAD] [PAD] [PAD] [PAD] [PAD] [PAD] [PAD] [PAD] [PAD] [PAD] [PAD] [PAD] [PAD] [PAD] [PAD] [PAD] [PAD] [PAD] [PAD] [PAD] [PAD] [PAD] [PAD] [PAD] [PAD] [PAD] [PAD] [PAD] [PAD] [PAD] [PAD] [PAD] [PAD] [PAD] [PAD] [PAD] [PAD] [PAD] [PAD] [PAD] [PAD] [PAD] [PAD] [PAD] [PAD] [PAD] [PAD] [PAD] [PAD] [PAD] [PAD] [PAD] [PAD] [PAD] [PAD] [PAD] [PAD] [PAD] [PAD] [PAD] [PAD] [PAD] [PAD] [PAD] [PAD] [PAD] [PAD] [PAD] [PAD] [PAD] [PAD] [PAD] [PAD] [PAD] [PAD] [PAD] [PAD] [PAD] [PAD] [PAD] [PAD] [PAD] [PAD] [PAD] [PAD] [PAD] [PAD] [PAD] [PAD] [PAD] [PAD] [PAD] [PAD] [PAD] [PAD] [PAD] [PAD] [PAD] [PAD] [PAD] [PAD] [PAD] [PAD] [PAD] [PAD] [PAD] [PAD] [PAD] [PAD] [PAD] [PAD] [PAD] [PAD] [PAD] [PAD] [PAD] [PAD] [PAD] [PAD] [PAD] [PAD] [PAD] [PAD] [PAD] [PAD] [PAD] [PAD] [PAD] [PAD] [PAD] [PAD] [PAD] [PAD] [PAD] [PAD] [PAD] [PAD] [PAD] [PAD] [PAD] [PAD] [PAD] [PAD] [PAD] [PAD] [PAD] [PAD] [PAD] [PAD] [PAD] [PAD] [PAD] [PAD] [PAD] [PAD] [PAD] [PAD] [PAD] [PAD] [PAD] [PAD] [PAD] [PAD] [PAD] [PAD] [PAD] [PAD] [PAD] [PAD] [PAD] [PAD] [PAD] [PAD] [PAD] [PAD] [PAD] [PAD] [PAD] [PAD] [PAD] [PAD] [PAD] [PAD] [PAD] [PAD] [PAD] [PAD] [PAD] [PAD] [PAD] [PAD] [PAD] [PAD] [PAD] [PAD] [PAD] [PAD] [PAD] [PAD] [PAD] [PAD] [PAD] [PAD] [PAD] [PAD] [PAD] [PAD] [PAD] [PAD] [PAD] [PAD] [PAD] [PAD] [PAD] [PAD] [PAD] [PAD] [PAD] [PAD] [PAD] [PAD] [PAD] [PAD] [PAD] [PAD] [PAD] [PAD] [PAD] [PAD] [PAD] [PAD] [PAD] [PAD] [PAD] [PAD] [PAD] [PAD] [PAD] [PAD] [PAD] [PAD] [PAD] [PAD] [PAD] [PAD] [PAD] [PAD] [PAD] [PAD] [PAD] [PAD] [PAD] [PAD] [PAD] [PAD] [PAD] [PAD] [PAD] [PAD] [PAD] [PAD] [PAD] [PAD] [PAD] [PAD] [PAD] [PAD] [PAD] [PAD] [PAD] [PAD] [PAD] [PAD] [PAD] [PAD] [PAD] [PAD] [PAD] [PAD] [PAD] [PAD] [PAD] [PAD] [PAD] [PAD] [PAD] [PAD] [PAD] [PAD] [PAD] [PAD] [PAD] [PAD] [PAD] [PAD] [PAD] [PAD] [PAD]',\n",
              " '[CLS] a stitch in time saves nine. [SEP] [PAD] [PAD] [PAD] [PAD] [PAD] [PAD] [PAD] [PAD] [PAD] [PAD] [PAD] [PAD] [PAD] [PAD] [PAD] [PAD] [PAD] [PAD] [PAD] [PAD] [PAD] [PAD] [PAD] [PAD] [PAD] [PAD] [PAD] [PAD] [PAD] [PAD] [PAD] [PAD] [PAD] [PAD] [PAD] [PAD] [PAD] [PAD] [PAD] [PAD] [PAD] [PAD] [PAD] [PAD] [PAD] [PAD] [PAD] [PAD] [PAD] [PAD] [PAD] [PAD] [PAD] [PAD] [PAD] [PAD] [PAD] [PAD] [PAD] [PAD] [PAD] [PAD] [PAD] [PAD] [PAD] [PAD] [PAD] [PAD] [PAD] [PAD] [PAD] [PAD] [PAD] [PAD] [PAD] [PAD] [PAD] [PAD] [PAD] [PAD] [PAD] [PAD] [PAD] [PAD] [PAD] [PAD] [PAD] [PAD] [PAD] [PAD] [PAD] [PAD] [PAD] [PAD] [PAD] [PAD] [PAD] [PAD] [PAD] [PAD] [PAD] [PAD] [PAD] [PAD] [PAD] [PAD] [PAD] [PAD] [PAD] [PAD] [PAD] [PAD] [PAD] [PAD] [PAD] [PAD] [PAD] [PAD] [PAD] [PAD] [PAD] [PAD] [PAD] [PAD] [PAD] [PAD] [PAD] [PAD] [PAD] [PAD] [PAD] [PAD] [PAD] [PAD] [PAD] [PAD] [PAD] [PAD] [PAD] [PAD] [PAD] [PAD] [PAD] [PAD] [PAD] [PAD] [PAD] [PAD] [PAD] [PAD] [PAD] [PAD] [PAD] [PAD] [PAD] [PAD] [PAD] [PAD] [PAD] [PAD] [PAD] [PAD] [PAD] [PAD] [PAD] [PAD] [PAD] [PAD] [PAD] [PAD] [PAD] [PAD] [PAD] [PAD] [PAD] [PAD] [PAD] [PAD] [PAD] [PAD] [PAD] [PAD] [PAD] [PAD] [PAD] [PAD] [PAD] [PAD] [PAD] [PAD] [PAD] [PAD] [PAD] [PAD] [PAD] [PAD] [PAD] [PAD] [PAD] [PAD] [PAD] [PAD] [PAD] [PAD] [PAD] [PAD] [PAD] [PAD] [PAD] [PAD] [PAD] [PAD] [PAD] [PAD] [PAD] [PAD] [PAD] [PAD] [PAD] [PAD] [PAD] [PAD] [PAD] [PAD] [PAD] [PAD] [PAD] [PAD] [PAD] [PAD] [PAD] [PAD] [PAD] [PAD] [PAD] [PAD] [PAD] [PAD] [PAD] [PAD] [PAD] [PAD] [PAD] [PAD] [PAD] [PAD] [PAD] [PAD] [PAD] [PAD] [PAD] [PAD] [PAD] [PAD] [PAD] [PAD] [PAD] [PAD] [PAD] [PAD] [PAD] [PAD] [PAD] [PAD] [PAD] [PAD] [PAD] [PAD] [PAD] [PAD] [PAD] [PAD] [PAD] [PAD] [PAD] [PAD] [PAD] [PAD] [PAD] [PAD] [PAD] [PAD] [PAD] [PAD] [PAD] [PAD] [PAD] [PAD] [PAD] [PAD] [PAD] [PAD] [PAD] [PAD] [PAD] [PAD] [PAD] [PAD] [PAD] [PAD] [PAD] [PAD] [PAD] [PAD] [PAD] [PAD] [PAD] [PAD] [PAD] [PAD] [PAD] [PAD] [PAD] [PAD] [PAD] [PAD] [PAD] [PAD] [PAD] [PAD] [PAD] [PAD] [PAD] [PAD] [PAD] [PAD] [PAD] [PAD] [PAD] [PAD] [PAD] [PAD] [PAD] [PAD] [PAD] [PAD] [PAD] [PAD] [PAD] [PAD] [PAD] [PAD] [PAD] [PAD] [PAD] [PAD] [PAD] [PAD] [PAD] [PAD] [PAD] [PAD] [PAD] [PAD] [PAD] [PAD] [PAD] [PAD] [PAD] [PAD] [PAD] [PAD] [PAD] [PAD] [PAD] [PAD] [PAD] [PAD] [PAD] [PAD] [PAD] [PAD] [PAD] [PAD] [PAD] [PAD] [PAD] [PAD] [PAD] [PAD] [PAD] [PAD] [PAD] [PAD] [PAD] [PAD] [PAD] [PAD] [PAD] [PAD] [PAD] [PAD] [PAD] [PAD] [PAD] [PAD] [PAD] [PAD] [PAD] [PAD] [PAD] [PAD] [PAD] [PAD] [PAD] [PAD] [PAD] [PAD] [PAD] [PAD] [PAD] [PAD] [PAD] [PAD] [PAD] [PAD] [PAD] [PAD] [PAD] [PAD] [PAD] [PAD] [PAD] [PAD] [PAD] [PAD] [PAD] [PAD] [PAD] [PAD] [PAD] [PAD] [PAD] [PAD] [PAD] [PAD] [PAD] [PAD] [PAD] [PAD] [PAD] [PAD] [PAD] [PAD] [PAD] [PAD] [PAD] [PAD] [PAD] [PAD] [PAD] [PAD] [PAD] [PAD] [PAD] [PAD] [PAD] [PAD] [PAD] [PAD] [PAD] [PAD] [PAD] [PAD] [PAD] [PAD] [PAD] [PAD] [PAD] [PAD] [PAD] [PAD] [PAD] [PAD] [PAD] [PAD] [PAD] [PAD] [PAD] [PAD] [PAD] [PAD] [PAD] [PAD] [PAD] [PAD] [PAD] [PAD] [PAD] [PAD] [PAD] [PAD] [PAD] [PAD] [PAD] [PAD] [PAD] [PAD] [PAD] [PAD] [PAD] [PAD] [PAD]']"
            ]
          },
          "metadata": {},
          "execution_count": 9
        }
      ],
      "source": [
        "# can be converted back to text:\n",
        "[tokenizer.decode(ids) for ids in inputs['input_ids']]"
      ]
    },
    {
      "cell_type": "markdown",
      "id": "ycIHkiWE-njZ",
      "metadata": {
        "id": "ycIHkiWE-njZ"
      },
      "source": [
        "[huggingface tokenizer objects](https://huggingface.co/docs/transformers/main_classes/tokenizer) contain information on the model specific special tokens:"
      ]
    },
    {
      "cell_type": "code",
      "execution_count": 10,
      "id": "Wj1BbY94-__h",
      "metadata": {
        "id": "Wj1BbY94-__h",
        "colab": {
          "base_uri": "https://localhost:8080/"
        },
        "outputId": "f981a2bb-bfdf-4605-c4a4-12c551d9a17a"
      },
      "outputs": [
        {
          "output_type": "execute_result",
          "data": {
            "text/plain": [
              "{'unk_token': '[UNK]',\n",
              " 'sep_token': '[SEP]',\n",
              " 'pad_token': '[PAD]',\n",
              " 'cls_token': '[CLS]',\n",
              " 'mask_token': '[MASK]'}"
            ]
          },
          "metadata": {},
          "execution_count": 10
        }
      ],
      "source": [
        "tokenizer.special_tokens_map"
      ]
    },
    {
      "cell_type": "code",
      "execution_count": 11,
      "id": "0fi7z9m6_D97",
      "metadata": {
        "id": "0fi7z9m6_D97",
        "colab": {
          "base_uri": "https://localhost:8080/"
        },
        "outputId": "674b7cb1-38bb-4108-c7a2-4df1c303d7dc"
      },
      "outputs": [
        {
          "output_type": "execute_result",
          "data": {
            "text/plain": [
              "('[UNK]', 100)"
            ]
          },
          "metadata": {},
          "execution_count": 11
        }
      ],
      "source": [
        "# Unknown token -> Encodes tokens that have not occured in the training data\n",
        "tokenizer.unk_token, tokenizer.unk_token_id"
      ]
    },
    {
      "cell_type": "code",
      "execution_count": 12,
      "id": "Ro5XF9EXAy8P",
      "metadata": {
        "id": "Ro5XF9EXAy8P",
        "colab": {
          "base_uri": "https://localhost:8080/"
        },
        "outputId": "131e25cf-fae0-400c-e896-22e5bb3910dc"
      },
      "outputs": [
        {
          "output_type": "execute_result",
          "data": {
            "text/plain": [
              "('[CLS]', 101)"
            ]
          },
          "metadata": {},
          "execution_count": 12
        }
      ],
      "source": [
        "# classification token -> Starts a sequence. Because of this, other transformers(not bert)\n",
        "# usually use \"beginning of sequence\" ([bos]) instead. For BERT-like models\n",
        "# it corresponds to the position of the classification output.\n",
        "tokenizer.cls_token, tokenizer.cls_token_id"
      ]
    },
    {
      "cell_type": "code",
      "execution_count": 13,
      "id": "68yN11or_Mcm",
      "metadata": {
        "id": "68yN11or_Mcm",
        "colab": {
          "base_uri": "https://localhost:8080/"
        },
        "outputId": "6d5db8e7-e940-4783-f393-29449f85b32c"
      },
      "outputs": [
        {
          "output_type": "execute_result",
          "data": {
            "text/plain": [
              "('[SEP]', 102)"
            ]
          },
          "metadata": {},
          "execution_count": 13
        }
      ],
      "source": [
        "# Separator token -> Separates two sentences for the next sentence prediction task\n",
        "# after pretraining usually used to end the input sequence. Because of this,\n",
        "# other transformers (not bert) usually use \"end of sequence\" ([eos]) instead.\n",
        "tokenizer.sep_token, tokenizer.sep_token_id"
      ]
    },
    {
      "cell_type": "code",
      "execution_count": 14,
      "id": "f3z_zd9w_HrQ",
      "metadata": {
        "id": "f3z_zd9w_HrQ",
        "colab": {
          "base_uri": "https://localhost:8080/"
        },
        "outputId": "6c5ee681-0c4f-42ab-8a8a-cbeffa52661a"
      },
      "outputs": [
        {
          "output_type": "execute_result",
          "data": {
            "text/plain": [
              "('[PAD]', 0)"
            ]
          },
          "metadata": {},
          "execution_count": 14
        }
      ],
      "source": [
        "# Padding token -> Pads sequences to the full input length of the transformer.\n",
        "tokenizer.pad_token, tokenizer.pad_token_id"
      ]
    },
    {
      "cell_type": "code",
      "execution_count": 15,
      "id": "dvNMA36T_aET",
      "metadata": {
        "id": "dvNMA36T_aET",
        "colab": {
          "base_uri": "https://localhost:8080/"
        },
        "outputId": "079fa484-f947-40a8-9fea-9be43a079409"
      },
      "outputs": [
        {
          "output_type": "execute_result",
          "data": {
            "text/plain": [
              "('[MASK]', 103)"
            ]
          },
          "metadata": {},
          "execution_count": 15
        }
      ],
      "source": [
        "# Mask token -> For the masked language modelling pretraining task. Rarelly used\n",
        "# after pretraining.\n",
        "tokenizer.mask_token, tokenizer.mask_token_id"
      ]
    },
    {
      "cell_type": "markdown",
      "id": "xWJBU4UBy6dv",
      "metadata": {
        "id": "xWJBU4UBy6dv"
      },
      "source": [
        "#### **Member `'attention_mask'`**: a mask specifing the position of  non-padded input tokens in `'input_ids'`!"
      ]
    },
    {
      "cell_type": "code",
      "execution_count": 16,
      "id": "Owr1ehR1yNRq",
      "metadata": {
        "id": "Owr1ehR1yNRq",
        "colab": {
          "base_uri": "https://localhost:8080/"
        },
        "outputId": "393090bf-8740-43fb-d818-e5d0df626b2d"
      },
      "outputs": [
        {
          "output_type": "execute_result",
          "data": {
            "text/plain": [
              "tensor([[1, 1, 1,  ..., 0, 0, 0],\n",
              "        [1, 1, 1,  ..., 0, 0, 0]])"
            ]
          },
          "metadata": {},
          "execution_count": 16
        }
      ],
      "source": [
        "inputs['attention_mask']"
      ]
    },
    {
      "cell_type": "code",
      "execution_count": 17,
      "id": "wSaGZmAd2t7s",
      "metadata": {
        "id": "wSaGZmAd2t7s",
        "colab": {
          "base_uri": "https://localhost:8080/"
        },
        "outputId": "4ad379c8-97d7-4ed5-cdbb-eeb80076fd45"
      },
      "outputs": [
        {
          "output_type": "execute_result",
          "data": {
            "text/plain": [
              "torch.Size([2, 512])"
            ]
          },
          "metadata": {},
          "execution_count": 17
        }
      ],
      "source": [
        "inputs['attention_mask'].shape"
      ]
    },
    {
      "cell_type": "code",
      "execution_count": 18,
      "id": "_pRNQjAU1CLB",
      "metadata": {
        "id": "_pRNQjAU1CLB",
        "colab": {
          "base_uri": "https://localhost:8080/"
        },
        "outputId": "c40abbfa-f9dd-474c-f813-633f901fd05d"
      },
      "outputs": [
        {
          "output_type": "execute_result",
          "data": {
            "text/plain": [
              "['[CLS] the quick brown fox jumps over the lazy dog. [SEP]',\n",
              " '[CLS] a stitch in time saves nine. [SEP]']"
            ]
          },
          "metadata": {},
          "execution_count": 18
        }
      ],
      "source": [
        "[tokenizer.decode(ids[mask == 1]) for ids, mask in zip(inputs['input_ids'], inputs['attention_mask'])]"
      ]
    },
    {
      "cell_type": "code",
      "execution_count": 19,
      "id": "yAksP39o0aUj",
      "metadata": {
        "id": "yAksP39o0aUj",
        "colab": {
          "base_uri": "https://localhost:8080/"
        },
        "outputId": "87f4e86b-510f-4390-d23d-878751eb3fd1"
      },
      "outputs": [
        {
          "output_type": "execute_result",
          "data": {
            "text/plain": [
              "['[PAD] [PAD] [PAD] [PAD] [PAD] [PAD] [PAD] [PAD] [PAD] [PAD] [PAD] [PAD] [PAD] [PAD] [PAD] [PAD] [PAD] [PAD] [PAD] [PAD] [PAD] [PAD] [PAD] [PAD] [PAD] [PAD] [PAD] [PAD] [PAD] [PAD] [PAD] [PAD] [PAD] [PAD] [PAD] [PAD] [PAD] [PAD] [PAD] [PAD] [PAD] [PAD] [PAD] [PAD] [PAD] [PAD] [PAD] [PAD] [PAD] [PAD] [PAD] [PAD] [PAD] [PAD] [PAD] [PAD] [PAD] [PAD] [PAD] [PAD] [PAD] [PAD] [PAD] [PAD] [PAD] [PAD] [PAD] [PAD] [PAD] [PAD] [PAD] [PAD] [PAD] [PAD] [PAD] [PAD] [PAD] [PAD] [PAD] [PAD] [PAD] [PAD] [PAD] [PAD] [PAD] [PAD] [PAD] [PAD] [PAD] [PAD] [PAD] [PAD] [PAD] [PAD] [PAD] [PAD] [PAD] [PAD] [PAD] [PAD] [PAD] [PAD] [PAD] [PAD] [PAD] [PAD] [PAD] [PAD] [PAD] [PAD] [PAD] [PAD] [PAD] [PAD] [PAD] [PAD] [PAD] [PAD] [PAD] [PAD] [PAD] [PAD] [PAD] [PAD] [PAD] [PAD] [PAD] [PAD] [PAD] [PAD] [PAD] [PAD] [PAD] [PAD] [PAD] [PAD] [PAD] [PAD] [PAD] [PAD] [PAD] [PAD] [PAD] [PAD] [PAD] [PAD] [PAD] [PAD] [PAD] [PAD] [PAD] [PAD] [PAD] [PAD] [PAD] [PAD] [PAD] [PAD] [PAD] [PAD] [PAD] [PAD] [PAD] [PAD] [PAD] [PAD] [PAD] [PAD] [PAD] [PAD] [PAD] [PAD] [PAD] [PAD] [PAD] [PAD] [PAD] [PAD] [PAD] [PAD] [PAD] [PAD] [PAD] [PAD] [PAD] [PAD] [PAD] [PAD] [PAD] [PAD] [PAD] [PAD] [PAD] [PAD] [PAD] [PAD] [PAD] [PAD] [PAD] [PAD] [PAD] [PAD] [PAD] [PAD] [PAD] [PAD] [PAD] [PAD] [PAD] [PAD] [PAD] [PAD] [PAD] [PAD] [PAD] [PAD] [PAD] [PAD] [PAD] [PAD] [PAD] [PAD] [PAD] [PAD] [PAD] [PAD] [PAD] [PAD] [PAD] [PAD] [PAD] [PAD] [PAD] [PAD] [PAD] [PAD] [PAD] [PAD] [PAD] [PAD] [PAD] [PAD] [PAD] [PAD] [PAD] [PAD] [PAD] [PAD] [PAD] [PAD] [PAD] [PAD] [PAD] [PAD] [PAD] [PAD] [PAD] [PAD] [PAD] [PAD] [PAD] [PAD] [PAD] [PAD] [PAD] [PAD] [PAD] [PAD] [PAD] [PAD] [PAD] [PAD] [PAD] [PAD] [PAD] [PAD] [PAD] [PAD] [PAD] [PAD] [PAD] [PAD] [PAD] [PAD] [PAD] [PAD] [PAD] [PAD] [PAD] [PAD] [PAD] [PAD] [PAD] [PAD] [PAD] [PAD] [PAD] [PAD] [PAD] [PAD] [PAD] [PAD] [PAD] [PAD] [PAD] [PAD] [PAD] [PAD] [PAD] [PAD] [PAD] [PAD] [PAD] [PAD] [PAD] [PAD] [PAD] [PAD] [PAD] [PAD] [PAD] [PAD] [PAD] [PAD] [PAD] [PAD] [PAD] [PAD] [PAD] [PAD] [PAD] [PAD] [PAD] [PAD] [PAD] [PAD] [PAD] [PAD] [PAD] [PAD] [PAD] [PAD] [PAD] [PAD] [PAD] [PAD] [PAD] [PAD] [PAD] [PAD] [PAD] [PAD] [PAD] [PAD] [PAD] [PAD] [PAD] [PAD] [PAD] [PAD] [PAD] [PAD] [PAD] [PAD] [PAD] [PAD] [PAD] [PAD] [PAD] [PAD] [PAD] [PAD] [PAD] [PAD] [PAD] [PAD] [PAD] [PAD] [PAD] [PAD] [PAD] [PAD] [PAD] [PAD] [PAD] [PAD] [PAD] [PAD] [PAD] [PAD] [PAD] [PAD] [PAD] [PAD] [PAD] [PAD] [PAD] [PAD] [PAD] [PAD] [PAD] [PAD] [PAD] [PAD] [PAD] [PAD] [PAD] [PAD] [PAD] [PAD] [PAD] [PAD] [PAD] [PAD] [PAD] [PAD] [PAD] [PAD] [PAD] [PAD] [PAD] [PAD] [PAD] [PAD] [PAD] [PAD] [PAD] [PAD] [PAD] [PAD] [PAD] [PAD] [PAD] [PAD] [PAD] [PAD] [PAD] [PAD] [PAD] [PAD] [PAD] [PAD] [PAD] [PAD] [PAD] [PAD] [PAD] [PAD] [PAD] [PAD] [PAD] [PAD] [PAD] [PAD] [PAD] [PAD] [PAD] [PAD] [PAD] [PAD] [PAD] [PAD] [PAD] [PAD] [PAD] [PAD] [PAD] [PAD] [PAD] [PAD] [PAD] [PAD] [PAD] [PAD] [PAD] [PAD] [PAD] [PAD] [PAD] [PAD] [PAD] [PAD] [PAD] [PAD] [PAD] [PAD] [PAD] [PAD] [PAD] [PAD] [PAD] [PAD] [PAD] [PAD] [PAD] [PAD] [PAD] [PAD] [PAD] [PAD]',\n",
              " '[PAD] [PAD] [PAD] [PAD] [PAD] [PAD] [PAD] [PAD] [PAD] [PAD] [PAD] [PAD] [PAD] [PAD] [PAD] [PAD] [PAD] [PAD] [PAD] [PAD] [PAD] [PAD] [PAD] [PAD] [PAD] [PAD] [PAD] [PAD] [PAD] [PAD] [PAD] [PAD] [PAD] [PAD] [PAD] [PAD] [PAD] [PAD] [PAD] [PAD] [PAD] [PAD] [PAD] [PAD] [PAD] [PAD] [PAD] [PAD] [PAD] [PAD] [PAD] [PAD] [PAD] [PAD] [PAD] [PAD] [PAD] [PAD] [PAD] [PAD] [PAD] [PAD] [PAD] [PAD] [PAD] [PAD] [PAD] [PAD] [PAD] [PAD] [PAD] [PAD] [PAD] [PAD] [PAD] [PAD] [PAD] [PAD] [PAD] [PAD] [PAD] [PAD] [PAD] [PAD] [PAD] [PAD] [PAD] [PAD] [PAD] [PAD] [PAD] [PAD] [PAD] [PAD] [PAD] [PAD] [PAD] [PAD] [PAD] [PAD] [PAD] [PAD] [PAD] [PAD] [PAD] [PAD] [PAD] [PAD] [PAD] [PAD] [PAD] [PAD] [PAD] [PAD] [PAD] [PAD] [PAD] [PAD] [PAD] [PAD] [PAD] [PAD] [PAD] [PAD] [PAD] [PAD] [PAD] [PAD] [PAD] [PAD] [PAD] [PAD] [PAD] [PAD] [PAD] [PAD] [PAD] [PAD] [PAD] [PAD] [PAD] [PAD] [PAD] [PAD] [PAD] [PAD] [PAD] [PAD] [PAD] [PAD] [PAD] [PAD] [PAD] [PAD] [PAD] [PAD] [PAD] [PAD] [PAD] [PAD] [PAD] [PAD] [PAD] [PAD] [PAD] [PAD] [PAD] [PAD] [PAD] [PAD] [PAD] [PAD] [PAD] [PAD] [PAD] [PAD] [PAD] [PAD] [PAD] [PAD] [PAD] [PAD] [PAD] [PAD] [PAD] [PAD] [PAD] [PAD] [PAD] [PAD] [PAD] [PAD] [PAD] [PAD] [PAD] [PAD] [PAD] [PAD] [PAD] [PAD] [PAD] [PAD] [PAD] [PAD] [PAD] [PAD] [PAD] [PAD] [PAD] [PAD] [PAD] [PAD] [PAD] [PAD] [PAD] [PAD] [PAD] [PAD] [PAD] [PAD] [PAD] [PAD] [PAD] [PAD] [PAD] [PAD] [PAD] [PAD] [PAD] [PAD] [PAD] [PAD] [PAD] [PAD] [PAD] [PAD] [PAD] [PAD] [PAD] [PAD] [PAD] [PAD] [PAD] [PAD] [PAD] [PAD] [PAD] [PAD] [PAD] [PAD] [PAD] [PAD] [PAD] [PAD] [PAD] [PAD] [PAD] [PAD] [PAD] [PAD] [PAD] [PAD] [PAD] [PAD] [PAD] [PAD] [PAD] [PAD] [PAD] [PAD] [PAD] [PAD] [PAD] [PAD] [PAD] [PAD] [PAD] [PAD] [PAD] [PAD] [PAD] [PAD] [PAD] [PAD] [PAD] [PAD] [PAD] [PAD] [PAD] [PAD] [PAD] [PAD] [PAD] [PAD] [PAD] [PAD] [PAD] [PAD] [PAD] [PAD] [PAD] [PAD] [PAD] [PAD] [PAD] [PAD] [PAD] [PAD] [PAD] [PAD] [PAD] [PAD] [PAD] [PAD] [PAD] [PAD] [PAD] [PAD] [PAD] [PAD] [PAD] [PAD] [PAD] [PAD] [PAD] [PAD] [PAD] [PAD] [PAD] [PAD] [PAD] [PAD] [PAD] [PAD] [PAD] [PAD] [PAD] [PAD] [PAD] [PAD] [PAD] [PAD] [PAD] [PAD] [PAD] [PAD] [PAD] [PAD] [PAD] [PAD] [PAD] [PAD] [PAD] [PAD] [PAD] [PAD] [PAD] [PAD] [PAD] [PAD] [PAD] [PAD] [PAD] [PAD] [PAD] [PAD] [PAD] [PAD] [PAD] [PAD] [PAD] [PAD] [PAD] [PAD] [PAD] [PAD] [PAD] [PAD] [PAD] [PAD] [PAD] [PAD] [PAD] [PAD] [PAD] [PAD] [PAD] [PAD] [PAD] [PAD] [PAD] [PAD] [PAD] [PAD] [PAD] [PAD] [PAD] [PAD] [PAD] [PAD] [PAD] [PAD] [PAD] [PAD] [PAD] [PAD] [PAD] [PAD] [PAD] [PAD] [PAD] [PAD] [PAD] [PAD] [PAD] [PAD] [PAD] [PAD] [PAD] [PAD] [PAD] [PAD] [PAD] [PAD] [PAD] [PAD] [PAD] [PAD] [PAD] [PAD] [PAD] [PAD] [PAD] [PAD] [PAD] [PAD] [PAD] [PAD] [PAD] [PAD] [PAD] [PAD] [PAD] [PAD] [PAD] [PAD] [PAD] [PAD] [PAD] [PAD] [PAD] [PAD] [PAD] [PAD] [PAD] [PAD] [PAD] [PAD] [PAD] [PAD] [PAD] [PAD] [PAD] [PAD] [PAD] [PAD] [PAD] [PAD] [PAD] [PAD] [PAD] [PAD] [PAD] [PAD] [PAD] [PAD] [PAD] [PAD] [PAD] [PAD] [PAD] [PAD] [PAD] [PAD] [PAD] [PAD] [PAD] [PAD] [PAD] [PAD] [PAD] [PAD] [PAD] [PAD] [PAD] [PAD] [PAD] [PAD] [PAD] [PAD] [PAD] [PAD] [PAD]']"
            ]
          },
          "metadata": {},
          "execution_count": 19
        }
      ],
      "source": [
        "[tokenizer.decode(ids[mask == 0]) for ids, mask in zip(inputs['input_ids'], inputs['attention_mask'])]"
      ]
    },
    {
      "cell_type": "markdown",
      "id": "0K5ZzZ4p2zPY",
      "metadata": {
        "id": "0K5ZzZ4p2zPY"
      },
      "source": [
        "#### **Member `'token_type_ids'`**: a mask specifing the position of the two sentences in `'input_ids'` for the next sentence prediction pretraining task!\n",
        "\n",
        "*Usually not needed after pretraining!*\n"
      ]
    },
    {
      "cell_type": "code",
      "execution_count": 20,
      "id": "_TAL7otD3SXy",
      "metadata": {
        "id": "_TAL7otD3SXy",
        "colab": {
          "base_uri": "https://localhost:8080/"
        },
        "outputId": "096e6114-708f-4296-a71c-00a5f7c7d4a6"
      },
      "outputs": [
        {
          "output_type": "execute_result",
          "data": {
            "text/plain": [
              "tensor([[0, 0, 0,  ..., 0, 0, 0],\n",
              "        [0, 0, 0,  ..., 0, 0, 0]])"
            ]
          },
          "metadata": {},
          "execution_count": 20
        }
      ],
      "source": [
        "inputs['token_type_ids']"
      ]
    },
    {
      "cell_type": "code",
      "execution_count": 21,
      "id": "X9MBsB_e3Y_y",
      "metadata": {
        "id": "X9MBsB_e3Y_y",
        "colab": {
          "base_uri": "https://localhost:8080/"
        },
        "outputId": "d6886153-38c7-4be5-af9e-6a5fcd7fea05"
      },
      "outputs": [
        {
          "output_type": "execute_result",
          "data": {
            "text/plain": [
              "torch.Size([2, 512])"
            ]
          },
          "metadata": {},
          "execution_count": 21
        }
      ],
      "source": [
        "inputs['token_type_ids'].shape"
      ]
    },
    {
      "cell_type": "markdown",
      "id": "7ajg7hHhyTTZ",
      "metadata": {
        "id": "7ajg7hHhyTTZ"
      },
      "source": [
        "### **2. Step:** Load the pretrained model"
      ]
    },
    {
      "cell_type": "code",
      "execution_count": 22,
      "id": "VcYwC-iA3rdF",
      "metadata": {
        "id": "VcYwC-iA3rdF",
        "colab": {
          "base_uri": "https://localhost:8080/"
        },
        "outputId": "d94c02fa-bc4b-4423-bf73-8d37e2e1300f"
      },
      "outputs": [
        {
          "output_type": "execute_result",
          "data": {
            "text/plain": [
              "device(type='cuda')"
            ]
          },
          "metadata": {},
          "execution_count": 22
        }
      ],
      "source": [
        "device = torch.device('cuda' if torch.cuda.is_available() else 'cpu')\n",
        "device"
      ]
    },
    {
      "cell_type": "code",
      "execution_count": 23,
      "id": "UgZKrPq-rOhJ",
      "metadata": {
        "id": "UgZKrPq-rOhJ",
        "colab": {
          "base_uri": "https://localhost:8080/"
        },
        "outputId": "6de77b15-b746-46fa-ec7d-044a640e27bb"
      },
      "outputs": [
        {
          "output_type": "execute_result",
          "data": {
            "text/plain": [
              "BertModel(\n",
              "  (embeddings): BertEmbeddings(\n",
              "    (word_embeddings): Embedding(30522, 768, padding_idx=0)\n",
              "    (position_embeddings): Embedding(512, 768)\n",
              "    (token_type_embeddings): Embedding(2, 768)\n",
              "    (LayerNorm): LayerNorm((768,), eps=1e-12, elementwise_affine=True)\n",
              "    (dropout): Dropout(p=0.1, inplace=False)\n",
              "  )\n",
              "  (encoder): BertEncoder(\n",
              "    (layer): ModuleList(\n",
              "      (0-11): 12 x BertLayer(\n",
              "        (attention): BertAttention(\n",
              "          (self): BertSdpaSelfAttention(\n",
              "            (query): Linear(in_features=768, out_features=768, bias=True)\n",
              "            (key): Linear(in_features=768, out_features=768, bias=True)\n",
              "            (value): Linear(in_features=768, out_features=768, bias=True)\n",
              "            (dropout): Dropout(p=0.1, inplace=False)\n",
              "          )\n",
              "          (output): BertSelfOutput(\n",
              "            (dense): Linear(in_features=768, out_features=768, bias=True)\n",
              "            (LayerNorm): LayerNorm((768,), eps=1e-12, elementwise_affine=True)\n",
              "            (dropout): Dropout(p=0.1, inplace=False)\n",
              "          )\n",
              "        )\n",
              "        (intermediate): BertIntermediate(\n",
              "          (dense): Linear(in_features=768, out_features=3072, bias=True)\n",
              "          (intermediate_act_fn): GELUActivation()\n",
              "        )\n",
              "        (output): BertOutput(\n",
              "          (dense): Linear(in_features=3072, out_features=768, bias=True)\n",
              "          (LayerNorm): LayerNorm((768,), eps=1e-12, elementwise_affine=True)\n",
              "          (dropout): Dropout(p=0.1, inplace=False)\n",
              "        )\n",
              "      )\n",
              "    )\n",
              "  )\n",
              "  (pooler): BertPooler(\n",
              "    (dense): Linear(in_features=768, out_features=768, bias=True)\n",
              "    (activation): Tanh()\n",
              "  )\n",
              ")"
            ]
          },
          "metadata": {},
          "execution_count": 23
        }
      ],
      "source": [
        "# load model:\n",
        "model = AutoModel.from_pretrained('bert-base-uncased')\n",
        "model.to(device)\n",
        "model.eval() #Disables training behaviors (dropout OFF, batch norm frozen)--when you're not training, but just getting predictions or embeddings.\n",
        "\n",
        "\n",
        "\n",
        "model"
      ]
    },
    {
      "cell_type": "markdown",
      "id": "a_NuE9dp-NI3",
      "metadata": {
        "id": "a_NuE9dp-NI3"
      },
      "source": [
        "The `config` property contains information about the model instance:"
      ]
    },
    {
      "cell_type": "code",
      "execution_count": 24,
      "id": "01NW7Tmx-bYq",
      "metadata": {
        "id": "01NW7Tmx-bYq",
        "colab": {
          "base_uri": "https://localhost:8080/"
        },
        "outputId": "21e7f132-3070-40f7-a3cb-5b84adf6efe8"
      },
      "outputs": [
        {
          "output_type": "execute_result",
          "data": {
            "text/plain": [
              "BertConfig {\n",
              "  \"_attn_implementation_autoset\": true,\n",
              "  \"architectures\": [\n",
              "    \"BertForMaskedLM\"\n",
              "  ],\n",
              "  \"attention_probs_dropout_prob\": 0.1,\n",
              "  \"classifier_dropout\": null,\n",
              "  \"gradient_checkpointing\": false,\n",
              "  \"hidden_act\": \"gelu\",\n",
              "  \"hidden_dropout_prob\": 0.1,\n",
              "  \"hidden_size\": 768,\n",
              "  \"initializer_range\": 0.02,\n",
              "  \"intermediate_size\": 3072,\n",
              "  \"layer_norm_eps\": 1e-12,\n",
              "  \"max_position_embeddings\": 512,\n",
              "  \"model_type\": \"bert\",\n",
              "  \"num_attention_heads\": 12,\n",
              "  \"num_hidden_layers\": 12,\n",
              "  \"pad_token_id\": 0,\n",
              "  \"position_embedding_type\": \"absolute\",\n",
              "  \"torch_dtype\": \"float32\",\n",
              "  \"transformers_version\": \"4.51.3\",\n",
              "  \"type_vocab_size\": 2,\n",
              "  \"use_cache\": true,\n",
              "  \"vocab_size\": 30522\n",
              "}"
            ]
          },
          "metadata": {},
          "execution_count": 24
        }
      ],
      "source": [
        "model.config"
      ]
    },
    {
      "cell_type": "markdown",
      "id": "9-4b7z4j81vu",
      "metadata": {
        "id": "9-4b7z4j81vu"
      },
      "source": [
        "We can use this model rightaway, since it is already pretrained:"
      ]
    },
    {
      "cell_type": "code",
      "execution_count": 25,
      "id": "1IXr28Jh80gu",
      "metadata": {
        "id": "1IXr28Jh80gu",
        "colab": {
          "base_uri": "https://localhost:8080/"
        },
        "outputId": "4af29ec4-a156-48f1-b5ec-1ab397256eb5"
      },
      "outputs": [
        {
          "output_type": "stream",
          "name": "stderr",
          "text": [
            "BertSdpaSelfAttention is used but `torch.nn.functional.scaled_dot_product_attention` does not support non-absolute `position_embedding_type` or `output_attentions=True` or `head_mask`. Falling back to the manual attention implementation, but specifying the manual implementation will be required from Transformers version v5.0.0 onwards. This warning can be removed using the argument `attn_implementation=\"eager\"` when loading the model.\n"
          ]
        },
        {
          "output_type": "execute_result",
          "data": {
            "text/plain": [
              "odict_keys(['last_hidden_state', 'pooler_output', 'hidden_states', 'attentions'])"
            ]
          },
          "metadata": {},
          "execution_count": 25
        }
      ],
      "source": [
        "with torch.no_grad():\n",
        "  outputs = model(\n",
        "      input_ids=inputs['input_ids'].to(device),\n",
        "      attention_mask=inputs['attention_mask'].to(device),\n",
        "      output_hidden_states=True,                # return the hidden states after each transformer layer (default: False)\n",
        "      output_attentions=True                    # return the self-attention weights (default: False)\n",
        "  )\n",
        "outputs.keys()"
      ]
    },
    {
      "cell_type": "markdown",
      "id": "E8ZbT5vr9yzZ",
      "metadata": {
        "id": "E8ZbT5vr9yzZ"
      },
      "source": [
        "`outputs` is again a dictionary-like object:"
      ]
    },
    {
      "cell_type": "markdown",
      "id": "9UuZZUF-98lI",
      "metadata": {
        "id": "9UuZZUF-98lI"
      },
      "source": [
        "#### **Member `'last_hidden_state'`**: the output of the last self-attention layer (i.e. before pooling)!"
      ]
    },
    {
      "cell_type": "code",
      "execution_count": 26,
      "id": "vTXFyxwj9x5K",
      "metadata": {
        "id": "vTXFyxwj9x5K",
        "colab": {
          "base_uri": "https://localhost:8080/"
        },
        "outputId": "34e5f561-90b0-4bc4-b3e0-5161dbbba221"
      },
      "outputs": [
        {
          "output_type": "execute_result",
          "data": {
            "text/plain": [
              "tensor([[[-0.3608,  0.2271, -0.3030,  ..., -0.4224,  0.6949,  0.6213],\n",
              "         [-0.3276, -0.3762, -0.5044,  ..., -0.3660,  1.1588, -0.2188],\n",
              "         [-0.4000, -0.4212,  0.4903,  ..., -0.4081,  0.8508, -0.0882],\n",
              "         ...,\n",
              "         [-0.2206,  0.1241,  0.2319,  ...,  0.0019,  0.2012, -0.1047],\n",
              "         [-0.2509,  0.0706,  0.1983,  ...,  0.0189,  0.2686,  0.0699],\n",
              "         [-0.1370,  0.0821,  0.3005,  ...,  0.0560,  0.3378, -0.0236]],\n",
              "\n",
              "        [[ 0.1309,  0.0272, -0.3383,  ...,  0.0292,  0.2871,  0.7647],\n",
              "         [-0.5729, -0.3173, -0.1150,  ..., -0.1885,  0.3097,  1.1665],\n",
              "         [ 0.2459, -0.5501,  0.1225,  ..., -0.2175, -0.0649,  0.1978],\n",
              "         ...,\n",
              "         [ 0.2523, -0.1311,  0.4284,  ...,  0.1841,  0.1646,  0.1138],\n",
              "         [-0.3716, -0.3322,  0.1152,  ...,  0.4753,  0.2748, -0.0563],\n",
              "         [ 0.1750, -0.1853,  0.4109,  ...,  0.2868,  0.0830,  0.0486]]],\n",
              "       device='cuda:0')"
            ]
          },
          "metadata": {},
          "execution_count": 26
        }
      ],
      "source": [
        "outputs['last_hidden_state']"
      ]
    },
    {
      "cell_type": "code",
      "execution_count": 27,
      "id": "3sfozAR3Dhjh",
      "metadata": {
        "id": "3sfozAR3Dhjh",
        "colab": {
          "base_uri": "https://localhost:8080/"
        },
        "outputId": "955d9d04-9074-4845-bca8-9d9872278278"
      },
      "outputs": [
        {
          "output_type": "execute_result",
          "data": {
            "text/plain": [
              "torch.Size([2, 512, 768])"
            ]
          },
          "metadata": {},
          "execution_count": 27
        }
      ],
      "source": [
        "outputs['last_hidden_state'].shape"
      ]
    },
    {
      "cell_type": "markdown",
      "id": "yckF1OuXDvK0",
      "metadata": {
        "id": "yckF1OuXDvK0"
      },
      "source": [
        "#### **Member `'pooler_output'`**: the output of the pooling layer!\n",
        "\n",
        "The pooler is a single linear layer with a tanh activation:\n",
        "\n",
        "```Python\n",
        "class BertPooler(nn.Module):\n",
        "    def __init__(self, config):\n",
        "        super().__init__()\n",
        "        self.dense = nn.Linear(config.hidden_size, config.hidden_size)\n",
        "        self.activation = nn.Tanh()\n",
        "    \n",
        "    def forward(self, hidden_states):\n",
        "        # We \"pool\" the model by simply taking the hidden state corresponding\n",
        "        # to the first token.\n",
        "        first_token_tensor = hidden_states[:, 0]\n",
        "        pooled_output = self.dense(first_token_tensor)\n",
        "        pooled_output = self.activation(pooled_output)\n",
        "        return pooled_output\n",
        "```\n",
        "\n",
        "This layer recieves the last hidden state corresponding to the `[CLS]` token as the input. Remember that the next sentence prediction task is trained on this output for BERT.\n",
        "\n",
        "(see [BERT source code](https://huggingface.co/transformers/v3.0.2/_modules/transformers/modeling_bert.html))"
      ]
    },
    {
      "cell_type": "code",
      "execution_count": 28,
      "id": "9Kf6Hn1ny19w",
      "metadata": {
        "id": "9Kf6Hn1ny19w"
      },
      "outputs": [],
      "source": [
        "import torch.nn as nn\n",
        "class BertPooler(nn.Module):\n",
        "    def __init__(self, config):\n",
        "        super().__init__()\n",
        "        self.dense = nn.Linear(config.hidden_size, config.hidden_size)\n",
        "        self.activation = nn.Tanh()\n",
        "\n",
        "    def forward(self, hidden_states):\n",
        "        # We \"pool\" the model by simply taking the hidden state corresponding\n",
        "        # to the first token.\n",
        "        first_token_tensor = hidden_states[:, 0]\n",
        "        pooled_output = self.dense(first_token_tensor)\n",
        "        pooled_output = self.activation(pooled_output)\n",
        "        return pooled_output"
      ]
    },
    {
      "cell_type": "code",
      "execution_count": 29,
      "id": "_qGpeZNoDvK2",
      "metadata": {
        "id": "_qGpeZNoDvK2",
        "colab": {
          "base_uri": "https://localhost:8080/"
        },
        "outputId": "3806d7bb-bdad-452b-ad67-e45a6f6e9740"
      },
      "outputs": [
        {
          "output_type": "execute_result",
          "data": {
            "text/plain": [
              "tensor([[-0.8232, -0.4768, -0.8892,  ..., -0.6265, -0.6798,  0.9165],\n",
              "        [-0.8745, -0.4169, -0.7252,  ..., -0.4989, -0.6803,  0.9086]],\n",
              "       device='cuda:0')"
            ]
          },
          "metadata": {},
          "execution_count": 29
        }
      ],
      "source": [
        "outputs['pooler_output']"
      ]
    },
    {
      "cell_type": "code",
      "execution_count": 30,
      "id": "au83mfbzDvK3",
      "metadata": {
        "id": "au83mfbzDvK3",
        "colab": {
          "base_uri": "https://localhost:8080/"
        },
        "outputId": "9f2e1488-2b77-4815-f832-90a2b7bb0cd1"
      },
      "outputs": [
        {
          "output_type": "execute_result",
          "data": {
            "text/plain": [
              "torch.Size([2, 768])"
            ]
          },
          "metadata": {},
          "execution_count": 30
        }
      ],
      "source": [
        "outputs['pooler_output'].shape"
      ]
    },
    {
      "cell_type": "markdown",
      "id": "2yZzvY5VNaON",
      "metadata": {
        "id": "2yZzvY5VNaON"
      },
      "source": [
        "#### **Member `'hidden_states'`**: all the hidden states after each transformer layer!\n",
        "\n",
        "*This is only returned because we specified* `output_hidden_states=True`*!*"
      ]
    },
    {
      "cell_type": "code",
      "execution_count": 31,
      "id": "Kd0SSrS8Ms0k",
      "metadata": {
        "id": "Kd0SSrS8Ms0k",
        "colab": {
          "base_uri": "https://localhost:8080/"
        },
        "outputId": "5df50d42-2dd5-4e9e-d5b5-55d857bad54c"
      },
      "outputs": [
        {
          "output_type": "execute_result",
          "data": {
            "text/plain": [
              "(tuple, 13)"
            ]
          },
          "metadata": {},
          "execution_count": 31
        }
      ],
      "source": [
        "type(outputs['hidden_states']), len(outputs['hidden_states'])"
      ]
    },
    {
      "cell_type": "code",
      "execution_count": 32,
      "id": "ANlvrs3ZN2T1",
      "metadata": {
        "id": "ANlvrs3ZN2T1",
        "colab": {
          "base_uri": "https://localhost:8080/"
        },
        "outputId": "7b9a6abe-7abc-4de8-b056-39f571be4608"
      },
      "outputs": [
        {
          "output_type": "execute_result",
          "data": {
            "text/plain": [
              "[torch.Size([2, 512, 768]),\n",
              " torch.Size([2, 512, 768]),\n",
              " torch.Size([2, 512, 768]),\n",
              " torch.Size([2, 512, 768]),\n",
              " torch.Size([2, 512, 768]),\n",
              " torch.Size([2, 512, 768]),\n",
              " torch.Size([2, 512, 768]),\n",
              " torch.Size([2, 512, 768]),\n",
              " torch.Size([2, 512, 768]),\n",
              " torch.Size([2, 512, 768]),\n",
              " torch.Size([2, 512, 768]),\n",
              " torch.Size([2, 512, 768]),\n",
              " torch.Size([2, 512, 768])]"
            ]
          },
          "metadata": {},
          "execution_count": 32
        }
      ],
      "source": [
        "[t.shape for t in outputs['hidden_states']]"
      ]
    },
    {
      "cell_type": "markdown",
      "id": "Ac_fok_POFZ2",
      "metadata": {
        "id": "Ac_fok_POFZ2"
      },
      "source": [
        "#### **Member `'attentions'`**: all the attention weights of each head in each transformer layer!\n",
        "\n",
        "*This is only returned because we specified* `output_attentions=True`*!*"
      ]
    },
    {
      "cell_type": "code",
      "execution_count": 33,
      "id": "DypKiztMOEij",
      "metadata": {
        "id": "DypKiztMOEij",
        "colab": {
          "base_uri": "https://localhost:8080/"
        },
        "outputId": "69f44e0d-6167-437a-b657-18e324a9785f"
      },
      "outputs": [
        {
          "output_type": "execute_result",
          "data": {
            "text/plain": [
              "(tuple, 12)"
            ]
          },
          "metadata": {},
          "execution_count": 33
        }
      ],
      "source": [
        "type(outputs['attentions']), len(outputs['attentions'])"
      ]
    },
    {
      "cell_type": "code",
      "execution_count": 34,
      "id": "iiZBQM2tOjXn",
      "metadata": {
        "id": "iiZBQM2tOjXn",
        "colab": {
          "base_uri": "https://localhost:8080/"
        },
        "outputId": "e07699f5-fa9b-4e43-be90-c3e1df3cd299"
      },
      "outputs": [
        {
          "output_type": "execute_result",
          "data": {
            "text/plain": [
              "[torch.Size([2, 12, 512, 512]),\n",
              " torch.Size([2, 12, 512, 512]),\n",
              " torch.Size([2, 12, 512, 512]),\n",
              " torch.Size([2, 12, 512, 512]),\n",
              " torch.Size([2, 12, 512, 512]),\n",
              " torch.Size([2, 12, 512, 512]),\n",
              " torch.Size([2, 12, 512, 512]),\n",
              " torch.Size([2, 12, 512, 512]),\n",
              " torch.Size([2, 12, 512, 512]),\n",
              " torch.Size([2, 12, 512, 512]),\n",
              " torch.Size([2, 12, 512, 512]),\n",
              " torch.Size([2, 12, 512, 512])]"
            ]
          },
          "metadata": {},
          "execution_count": 34
        }
      ],
      "source": [
        "[t.shape for t in outputs['attentions']]"
      ]
    },
    {
      "cell_type": "markdown",
      "id": "HTHdXQISOtRr",
      "metadata": {
        "id": "HTHdXQISOtRr"
      },
      "source": [
        "Let's have a look at the average attention in the last layer:"
      ]
    },
    {
      "cell_type": "code",
      "execution_count": 35,
      "id": "zro0w0AyO4qV",
      "metadata": {
        "id": "zro0w0AyO4qV",
        "colab": {
          "base_uri": "https://localhost:8080/",
          "height": 438
        },
        "outputId": "516ac578-1cae-4d63-e5be-3406c61e75fc"
      },
      "outputs": [
        {
          "output_type": "display_data",
          "data": {
            "text/plain": [
              "<Figure size 2000x500 with 12 Axes>"
            ],
            "image/png": "[encoded data removed]"
          },
          "metadata": {}
        },
        {
          "output_type": "display_data",
          "data": {
            "text/plain": [
              "<Figure size 2000x500 with 12 Axes>"
            ],
            "image/png": "[encoded data removed]"
          },
          "metadata": {}
        }
      ],
      "source": [
        "import matplotlib.pyplot as plt\n",
        "\n",
        "for i in range(2):\n",
        "  fig, axs = plt.subplots(ncols=12, figsize=(20, 5))\n",
        "  for layer, ax in enumerate(axs):\n",
        "    # get attention weights of last transformer layer:\n",
        "    aw = outputs['attentions'][layer][i].cpu()\n",
        "\n",
        "    # average over heads:\n",
        "    aw = aw.mean(dim=0)\n",
        "\n",
        "    # remove padding tokens:\n",
        "    mask = inputs['attention_mask'][i]\n",
        "    aw = aw[mask == 1, :][:, mask == 1]\n",
        "\n",
        "    # create labels:\n",
        "    labels = tokenizer.convert_ids_to_tokens(inputs['input_ids'][i][mask == 1])\n",
        "    x = np.arange(len(labels))\n",
        "\n",
        "    ax.imshow(aw.detach().numpy())\n",
        "    ax.set_xticks(ticks=x, labels=labels, rotation=90)\n",
        "    ax.set_yticks(ticks=x, labels=['']*len(x))\n",
        "    ax.set_title(f'Layer {layer+1}')\n",
        "\n",
        "  axs[0].set_yticks(ticks=x, labels=labels)\n",
        "  plt.tight_layout()\n",
        "  plt.show()"
      ]
    },
    {
      "cell_type": "markdown",
      "id": "F082przzrRjv",
      "metadata": {
        "id": "F082przzrRjv"
      },
      "source": [
        "Note how every attention layer focuses on different token combinations."
      ]
    },
    {
      "cell_type": "markdown",
      "id": "R8i0pD_1Pnzx",
      "metadata": {
        "id": "R8i0pD_1Pnzx"
      },
      "source": [
        "\\\\### Example: using pretrained models as embeddings without furter fine-tuning"
      ]
    },
    {
      "cell_type": "markdown",
      "id": "iaIt6XKpbkYu",
      "metadata": {
        "id": "iaIt6XKpbkYu"
      },
      "source": [
        "Let's load a dataset:\n",
        "\n",
        "From (https://paperswithcode.com/dataset/ag-news)[https://paperswithcode.com/dataset/ag-news]:\n",
        "> *AG News (AG’s News Corpus) is a subdataset of AG's corpus of news articles constructed by assembling titles and description fields of articles from the 4 largest classes (“World”, “Sports”, “Business”, “Sci/Tech”) of AG’s Corpus. The AG News contains 30,000 training and 1,900 test samples per class.*"
      ]
    },
    {
      "cell_type": "code",
      "execution_count": null,
      "id": "CuhboGTST78E",
      "metadata": {
        "id": "CuhboGTST78E"
      },
      "outputs": [],
      "source": []
    },
    {
      "cell_type": "code",
      "execution_count": null,
      "id": "IPCU7rU2ifZJ",
      "metadata": {
        "id": "IPCU7rU2ifZJ"
      },
      "outputs": [],
      "source": [
        "\n",
        "!pip install -U datasets\n",
        "!pip install fsspec==2023.6.0\n",
        "\n",
        "# Restart runtime after this\n"
      ]
    },
    {
      "cell_type": "code",
      "execution_count": null,
      "id": "a5CkImKlT95D",
      "metadata": {
        "id": "a5CkImKlT95D"
      },
      "outputs": [],
      "source": [
        "from datasets import load_dataset\n",
        "labels = [\"World\", \"Sports\", \"Business\", \"Sci/Tech\"]\n",
        "data = load_dataset(\"ag_news\", split='train[:2000]')\n",
        "data"
      ]
    },
    {
      "cell_type": "code",
      "execution_count": null,
      "id": "zA8qr3hBi4NH",
      "metadata": {
        "id": "zA8qr3hBi4NH"
      },
      "outputs": [],
      "source": [
        "data[0]"
      ]
    },
    {
      "cell_type": "markdown",
      "id": "tyZIOPozi-rP",
      "metadata": {
        "id": "tyZIOPozi-rP"
      },
      "source": [
        "Add a tokenization step to the pipeline:"
      ]
    },
    {
      "cell_type": "code",
      "execution_count": null,
      "id": "tgEOJjejiuS1",
      "metadata": {
        "id": "tgEOJjejiuS1"
      },
      "outputs": [],
      "source": [
        "def tokenize_function(example):\n",
        "    return tokenizer(example['text'], truncation=True, padding='max_length')\n",
        "\n",
        "data = data.map(tokenize_function, batched=True)\n",
        "data"
      ]
    },
    {
      "cell_type": "markdown",
      "id": "LmaUD5y6jhUD",
      "metadata": {
        "id": "LmaUD5y6jhUD"
      },
      "source": [
        "Hide irrelevant features:"
      ]
    },
    {
      "cell_type": "code",
      "execution_count": null,
      "id": "olQgyJKGjqOI",
      "metadata": {
        "id": "olQgyJKGjqOI"
      },
      "outputs": [],
      "source": [
        "data.set_format('torch', columns=['input_ids', 'attention_mask', 'label'])\n",
        "data[0]"
      ]
    },
    {
      "cell_type": "markdown",
      "id": "AnTyGM91o4Qj",
      "metadata": {
        "id": "AnTyGM91o4Qj"
      },
      "source": [
        "Calculate BERT embeddings:"
      ]
    },
    {
      "cell_type": "code",
      "execution_count": null,
      "id": "AgFyX4fMkJqN",
      "metadata": {
        "id": "AgFyX4fMkJqN"
      },
      "outputs": [],
      "source": [
        "from tqdm import tqdm\n",
        "from torch.utils.data import DataLoader\n",
        "\n",
        "\n",
        "x, y = [], []\n",
        "\n",
        "# predict:\n",
        "for batch in tqdm(DataLoader(data, batch_size=32)):\n",
        "  with torch.no_grad():\n",
        "    y.extend(batch.pop('label').cpu().numpy())\n",
        "\n",
        "    batch = {k: v.to(device) for k, v in batch.items()}\n",
        "    x.extend(model(**batch).pooler_output.cpu().numpy())\n",
        "\n",
        "# convert lists to numpy:\n",
        "x = np.array(x)\n",
        "y = np.array(y)\n",
        "\n",
        "x.shape, y.shape"
      ]
    },
    {
      "cell_type": "code",
      "execution_count": null,
      "id": "7y3OZqJfrHdi",
      "metadata": {
        "id": "7y3OZqJfrHdi"
      },
      "outputs": [],
      "source": [
        "from sklearn.model_selection import ShuffleSplit\n",
        "from sklearn.neighbors import KNeighborsClassifier\n",
        "from sklearn.metrics import f1_score\n",
        "\n",
        "f1_knn, f1_rnd = [], []\n",
        "ks = np.arange(1, 21)\n",
        "for k in tqdm(ks):\n",
        "  f1_knn.append([])\n",
        "  f1_rnd.append([])\n",
        "\n",
        "  # Monte-Carlo cross-validation with 50 splits:\n",
        "  mc = ShuffleSplit(n_splits=50, test_size=0.25, train_size=None)\n",
        "  for idx_train, idx_test in mc.split(x):\n",
        "\n",
        "    # knn classifier:\n",
        "    knn = KNeighborsClassifier(n_neighbors=k).fit(x[idx_train], y[idx_train])\n",
        "    y_pred = knn.predict(x[idx_test])\n",
        "    f1_knn[-1].append(f1_score(y[idx_test], y_pred, average='macro'))\n",
        "\n",
        "    # random baseline:\n",
        "    y_rnd = np.random.randint(0, len(labels), size=len(y[idx_test]))\n",
        "    f1_rnd[-1].append(f1_score(y[idx_test], y_rnd, average='macro'))\n",
        "\n",
        "# convert to numpy:\n",
        "f1_knn = np.array(f1_knn)\n",
        "f1_rnd = np.array(f1_rnd)\n",
        "\n",
        "# plot:\n",
        "plt.plot(np.mean(f1_knn, axis=1), label='KNN')\n",
        "plt.plot(np.mean(f1_rnd, axis=1), label='Random')\n",
        "plt.legend()\n",
        "plt.xticks(ticks=ks-1, labels=ks)\n",
        "plt.xlabel('$k$')\n",
        "plt.ylabel('F$_1$-score')\n",
        "plt.show()"
      ]
    },
    {
      "cell_type": "code",
      "execution_count": null,
      "id": "xrHQXP6toJAQ",
      "metadata": {
        "id": "xrHQXP6toJAQ"
      },
      "outputs": [],
      "source": [
        "from typing import Iterable\n",
        "from transformers import BertModel, BertTokenizer\n",
        "from numpy.typing import NDArray\n",
        "from sklearn.metrics.pairwise import cosine_similarity\n"
      ]
    },
    {
      "cell_type": "markdown",
      "id": "oC8eB7JT0SPM",
      "metadata": {
        "id": "oC8eB7JT0SPM"
      },
      "source": [
        "---\n",
        "\n",
        "<span style=\"color:red\"><b>TASK 1</b> - Text similarity:</span>\n",
        "\n",
        "---\n",
        "\n",
        "Write a function to compute text similarity using cosine similarity between BERT embeddings of different texts. The function should take a list of $n$ strings as its input and return a similarity matrix $\\in \\mathbb{R}^{n \\times n}$.\n",
        "\n",
        "Afterward, use this function to compute the similarity for the sentences in `data.zip/task1/sentences.csv` and upload your solution to NextIlearn.\n",
        "\n",
        "**Hint:** See [here](https://scikit-learn.org/stable/modules/generated/sklearn.metrics.pairwise.cosine_similarity.html) for documentation of the `sklearn.metrics.pairwise.cosine_similarity` function."
      ]
    },
    {
      "cell_type": "code",
      "execution_count": null,
      "id": "f6Ysh3-Q0RUc",
      "metadata": {
        "id": "f6Ysh3-Q0RUc"
      },
      "outputs": [],
      "source": [
        "def text_similarity(texts:Iterable[str], model:BertModel, tokenizer:BertTokenizer, device:torch.device) -> NDArray[np.float32]:\n",
        "  # do stuff here\n",
        "  inputs = tokenizer(\n",
        "      list(texts),\n",
        "      padding= 'max_length',\n",
        "      truncation=True,\n",
        "      max_length=128,\n",
        "      return_tensors = 'pt'\n",
        "  )\n",
        "\n",
        "  inputs = {k: v.to(device) for k,v in inputs.items()}\n",
        "\n",
        "  with torch.no_grad():\n",
        "    outputs = model(**inputs)\n",
        "    embeddings = outputs.pooler_output\n",
        "  embeddings  = embeddings.cpu().numpy()\n",
        "  similarity = cosine_similarity(embeddings)\n",
        "\n",
        "  return similarity.astype(np.float32)"
      ]
    },
    {
      "cell_type": "code",
      "execution_count": null,
      "id": "317ea159-3fa4-41da-9799-2487bc0279cc",
      "metadata": {
        "id": "317ea159-3fa4-41da-9799-2487bc0279cc"
      },
      "outputs": [],
      "source": [
        "# calculate similarity for sample sentences:\n",
        "sentences  = pd.read_csv('data/task1/sentences.csv', index_col=0)\n",
        "similarity = text_similarity(sentences['sentences'].values.tolist(), model, tokenizer, device)\n",
        "pd.DataFrame(similarity).to_csv('similarity.csv')"
      ]
    },
    {
      "cell_type": "markdown",
      "id": "7dnFuEGI1Ab9",
      "metadata": {
        "id": "7dnFuEGI1Ab9"
      },
      "source": [
        "---\n",
        "\n",
        "*End of Task 1. Upload your final predictions (the file* `similarity.csv` *) to* **Homework 2 - Code** *on* **NextIlearn**"
      ]
    },
    {
      "cell_type": "markdown",
      "id": "iwdShoDHpu5U",
      "metadata": {
        "id": "iwdShoDHpu5U"
      },
      "source": [
        "When you are done with Task 1, feel free to play around with the function a little:"
      ]
    },
    {
      "cell_type": "code",
      "execution_count": null,
      "id": "bG2H95mppr_v",
      "metadata": {
        "id": "bG2H95mppr_v"
      },
      "outputs": [],
      "source": [
        "\n",
        "import matplotlib.pyplot as plt\n",
        "\n",
        "plt.imshow(text_similarity(['Paul is cooking dinner for his friend.', 'Maria is cooking dinner for her friend.', 'Stockholm is a beautiful city!'], model, tokenizer, device))"
      ]
    },
    {
      "cell_type": "markdown",
      "id": "6c734ec5",
      "metadata": {
        "id": "6c734ec5"
      },
      "source": [
        "## 2. Fine-tuning BERT for Text Classification\n",
        "\n",
        "While the KNN classifier based on BERT embeddings is already performing well, we can improve on them by fine-tuning the model for our task. We will reuse the data preprocessing pipeline we used before!"
      ]
    },
    {
      "cell_type": "code",
      "execution_count": null,
      "id": "gWBA13zK0K0f",
      "metadata": {
        "id": "gWBA13zK0K0f"
      },
      "outputs": [],
      "source": [
        "# split data in training and test set:\n",
        "split_data = data.train_test_split(test_size=0.25)\n",
        "split_data"
      ]
    },
    {
      "cell_type": "code",
      "execution_count": null,
      "id": "qS9Jo5L70SWz",
      "metadata": {
        "id": "qS9Jo5L70SWz"
      },
      "outputs": [],
      "source": [
        "# create dataloaders:\n",
        "train_dataloader = DataLoader(split_data['train'], batch_size=8)\n",
        "test_dataloader = DataLoader(split_data['test'], batch_size=8)"
      ]
    },
    {
      "cell_type": "markdown",
      "id": "Y8WXmm-b72iD",
      "metadata": {
        "id": "Y8WXmm-b72iD"
      },
      "source": [
        "For classification, we need a different \"head\" on our model. Huggingface provides different setups for each model (see [huggingface documentation](https://huggingface.co/transformers/v3.0.2/model_doc/auto.html)):\n",
        "\n",
        "*   `transformers.AutoModel`\n",
        "*   `transformers.AutoModelForPreTraining`\n",
        "*   `transformers.AutoModelWithLMHead`\n",
        "*   `transformers.AutoModelForSequenceClassification`\n",
        "*   `transformers.AutoModelForQuestionAnswering`\n",
        "*   `transformers.AutoModelForTokenClassification`\n",
        "\n",
        "For text classification we use `transformers.AutoModelForSequenceClassification`:"
      ]
    },
    {
      "cell_type": "code",
      "execution_count": null,
      "id": "kjFc6rW07yu1",
      "metadata": {
        "id": "kjFc6rW07yu1"
      },
      "outputs": [],
      "source": [
        "from transformers import AutoModelForSequenceClassification\n",
        "\n",
        "model = AutoModelForSequenceClassification.from_pretrained(\"bert-base-uncased\", num_labels=len(labels))\n",
        "model = model.to(device)\n",
        "model"
      ]
    },
    {
      "cell_type": "markdown",
      "id": "6mABS9aP-3e6",
      "metadata": {
        "id": "6mABS9aP-3e6"
      },
      "source": [
        "As you can see, this model has an **additional linear layer** after the pooler layer. It also comes with built-in loss calculation for convenience:\n",
        "\n",
        "```Python\n",
        "loss = None\n",
        "if labels is not None:\n",
        "    if self.config.problem_type is None:\n",
        "        if self.num_labels == 1:\n",
        "            self.config.problem_type = \"regression\"\n",
        "        elif self.num_labels > 1 and (labels.dtype == torch.long or labels.dtype == torch.int):\n",
        "            self.config.problem_type = \"single_label_classification\"\n",
        "        else:\n",
        "            self.config.problem_type = \"multi_label_classification\"\n",
        "\n",
        "    if self.config.problem_type == \"regression\":\n",
        "        loss_fct = MSELoss()\n",
        "        if self.num_labels == 1:\n",
        "            loss = loss_fct(logits.squeeze(), labels.squeeze())\n",
        "        else:\n",
        "            loss = loss_fct(logits, labels)\n",
        "    elif self.config.problem_type == \"single_label_classification\":\n",
        "        loss_fct = CrossEntropyLoss()\n",
        "        loss = loss_fct(logits.view(-1, self.num_labels), labels.view(-1))\n",
        "    elif self.config.problem_type == \"multi_label_classification\":\n",
        "        loss_fct = BCEWithLogitsLoss()\n",
        "        loss = loss_fct(logits, labels)\n",
        "```\n",
        "(*from* [https://github.com/huggingface/transformers/blob/v4.51.3/src/transformers/models/bert/modeling_bert.py](https://github.com/huggingface/transformers/blob/v4.51.3/src/transformers/models/bert/modeling_bert.py#L1692))\n",
        "\n",
        "\n",
        "Let's try this out:"
      ]
    },
    {
      "cell_type": "code",
      "execution_count": null,
      "id": "26T9ZO7sHQcW",
      "metadata": {
        "id": "26T9ZO7sHQcW"
      },
      "outputs": [],
      "source": [
        "model(\n",
        "  input_ids      = data[:1]['input_ids'].to(device),\n",
        "  attention_mask = data[:1]['attention_mask'].to(device),\n",
        "  labels         = data[:1]['label'].to(device)\n",
        ")"
      ]
    },
    {
      "cell_type": "markdown",
      "id": "FdV9KVu6EyEp",
      "metadata": {
        "id": "FdV9KVu6EyEp"
      },
      "source": [
        "Now let's train this model. Remember, that **in fine-tuning we want to update the pretrained weights, not re-train the model**. Therefore, we train the model for a low number of epochs with a low learning rate. The original BERT paper proposes the following configuration ([Devlin et al, 2019](https://doi.org/10.48550/arXiv.1810.04805)):\n",
        "\n",
        "* **Learning rate with Adam:** *5e-5, 3e-5, 2e-5*\n",
        "* **Number of epochs:** *2, 3, 4*\n",
        "\n",
        "Further reading: *Huggingface also provides a* `transformers.Trainer`*-class that you may want to try out for convenience: [https://huggingface.co/docs/transformers/main_classes/trainer](https://huggingface.co/docs/transformers/main_classes/trainer)*"
      ]
    },
    {
      "cell_type": "code",
      "execution_count": null,
      "id": "5bb544b6",
      "metadata": {
        "id": "5bb544b6"
      },
      "outputs": [],
      "source": [
        "from torch.optim import AdamW\n",
        "\n",
        "# Optimizer:\n",
        "optimizer = AdamW(model.parameters(), lr=5e-5)\n",
        "\n",
        "# Training loop:\n",
        "loss_train = []\n",
        "for epoch in range(2):\n",
        "\n",
        "  model.train()\n",
        "  loss_train.append([])\n",
        "  for batch in train_dataloader:\n",
        "    optimizer.zero_grad()\n",
        "\n",
        "    outputs = model(\n",
        "      input_ids      = batch['input_ids'].to(device),\n",
        "      attention_mask = batch['attention_mask'].to(device),\n",
        "      labels         = batch['label'].to(device)\n",
        "    )\n",
        "\n",
        "    loss = outputs.loss\n",
        "    loss.backward()\n",
        "    loss_train[-1].append(loss.item())\n",
        "\n",
        "    optimizer.step()\n",
        "  loss_train[-1] = np.mean(loss_train[-1])\n",
        "\n",
        "  print(f\"Epoch {epoch+1}: loss = {loss_train[-1]:.3f}\")"
      ]
    },
    {
      "cell_type": "code",
      "execution_count": null,
      "id": "XnC9iFksPg2e",
      "metadata": {
        "id": "XnC9iFksPg2e"
      },
      "outputs": [],
      "source": [
        "# Evaluation:\n",
        "model.eval()\n",
        "y_true, y_pred = [], []\n",
        "for batch in test_dataloader:\n",
        "  with torch.no_grad():\n",
        "    outputs = model(\n",
        "      input_ids      = batch['input_ids'].to(device),\n",
        "      attention_mask = batch['attention_mask'].to(device)\n",
        "    )\n",
        "\n",
        "  y_pred.extend(outputs.logits.argmax(dim=1).cpu().numpy())\n",
        "  y_true.extend(batch['label'].cpu().numpy())\n",
        "\n",
        "f1_score(y_true, y_pred, average='macro')"
      ]
    },
    {
      "cell_type": "markdown",
      "id": "5M_UbjWVRbVR",
      "metadata": {
        "id": "5M_UbjWVRbVR"
      },
      "source": [
        "---\n",
        "\n",
        "<span style=\"color:red\"><b>TASK 2</b> - Fine-Tuning RoBERTa:</span>\n",
        "\n",
        "---\n",
        "\n",
        "Fine-tune [RoBERTa](https://huggingface.co/docs/transformers/model_doc/roberta) a pretrained transformer model to classify the data you received along with this notebook (in `data.zip/task2/...`). **You are enouraged to use scheduling and early stopping, but remember to keep the learning rate low.**\n",
        "\n",
        "**Upload the resulting predictions to NextIlearn. Your model should achieve an F$_1$ > .77 to pass.**"
      ]
    },
    {
      "cell_type": "code",
      "source": [
        "import pandas as pd\n",
        "from transformers import RobertaTokenizer, RobertaForSequenceClassification\n",
        "from transformers import Trainer, TrainingArguments\n",
        "from torch.utils.data import Dataset\n",
        "import torch\n",
        "import numpy as np"
      ],
      "metadata": {
        "id": "d5YkbAKm8nCM"
      },
      "id": "d5YkbAKm8nCM",
      "execution_count": null,
      "outputs": []
    },
    {
      "cell_type": "code",
      "execution_count": null,
      "id": "ada173b4-93ac-4ddd-8475-b1e442100ecf",
      "metadata": {
        "id": "ada173b4-93ac-4ddd-8475-b1e442100ecf"
      },
      "outputs": [],
      "source": [
        "# Load labeled list of training files:\n",
        "train_files = pd.read_csv('data/task2/train/labels.csv', index_col=0)\n",
        "train_files['file'] = ['data/task2/train/' + s for s in train_files['file']]\n",
        "print(f'# of positive samples: {(train_files.label == 1).sum():d}')\n",
        "print(f'# of negative samples: {(train_files.label == 0).sum():d}')\n",
        "train_files.head()"
      ]
    },
    {
      "cell_type": "code",
      "source": [
        "# Load training data sample:\n",
        "with open(train_files.file.sample(1).iloc[0], 'r') as file:\n",
        "    print(file.read())"
      ],
      "metadata": {
        "id": "NmGerQP06MTz"
      },
      "id": "NmGerQP06MTz",
      "execution_count": null,
      "outputs": []
    },
    {
      "cell_type": "code",
      "source": [
        "# Function to import the datasets\n",
        "from torch.utils.data import Dataset\n",
        "class Text_DataSet(Dataset):\n",
        "    def __init__(self, file_paths, labels, tokenizer, max_length = 256):\n",
        "        self.file_paths = file_paths\n",
        "        self.labels = labels\n",
        "        self.tokenizer = tokenizer\n",
        "        self.max_length = max_length\n",
        "\n",
        "    def __len__(self):\n",
        "        return len(self.file_paths)\n",
        "\n",
        "    def __getitem__(self,idx):\n",
        "        with open(self.file_paths[idx],'r') as file:\n",
        "            text = file.read()\n",
        "\n",
        "        encodings = self.tokenizer(text, padding = \"max_length\",truncation =True,return_tensors = 'pt')\n",
        "\n",
        "        return encodings['input_ids'].squeeze(0), encodings['attention_mask'].squeeze(0), torch.tensor(self.labels[idx],dtype=torch.long)\n",
        "\n",
        "class TextDataSet_Test(Dataset):\n",
        "    def __init__(self, file_paths, tokenizer):\n",
        "        self.file_paths = file_paths\n",
        "        self.tokenizer = tokenizer\n",
        "\n",
        "    def __len__(self):\n",
        "        return len(self.file_paths)\n",
        "\n",
        "    def __getitem__(self,idx):\n",
        "        with open(self.file_paths[idx],'r') as file:\n",
        "            text = file.read()\n",
        "\n",
        "        encodings = self.tokenizer(text, padding = \"max_length\",truncation =True,return_tensors = 'pt')\n",
        "\n",
        "        return encodings['input_ids'].squeeze(0), encodings['attention_mask'].squeeze(0)\n"
      ],
      "metadata": {
        "id": "ZqDCnpOT1kiz"
      },
      "id": "ZqDCnpOT1kiz",
      "execution_count": null,
      "outputs": []
    },
    {
      "cell_type": "code",
      "source": [
        "device = torch.device('cuda' if torch.cuda.is_available() else 'cpu')\n",
        "device"
      ],
      "metadata": {
        "id": "TBz9DXEM1s9q"
      },
      "id": "TBz9DXEM1s9q",
      "execution_count": null,
      "outputs": []
    },
    {
      "cell_type": "code",
      "source": [
        "\n",
        "tokenizer = RobertaTokenizer.from_pretrained('roberta-base')\n",
        "Train_dataset = Text_DataSet(train_files['file'],train_files['label'],tokenizer)\n",
        "\n",
        "pos_weight = len(train_files) / (2 * np.bincount(train_files['label'])[1])\n",
        "neg_weight = len(train_files) / (2 * np.bincount(train_files['label'])[0])\n",
        "weights = torch.tensor([neg_weight, pos_weight]).to(device)\n",
        "\n",
        "class WeightedRoberta(RobertaForSequenceClassification):\n",
        "    def __init__(self, config):\n",
        "        super().__init__(config)\n",
        "        self.loss_fct = torch.nn.CrossEntropyLoss(weight=weights)\n",
        "\n",
        "model = WeightedRoberta.from_pretrained('roberta-base', num_labels=2)\n",
        "model = model.to(device)\n"
      ],
      "metadata": {
        "id": "9BdfJ8wm4WET"
      },
      "id": "9BdfJ8wm4WET",
      "execution_count": null,
      "outputs": []
    },
    {
      "cell_type": "code",
      "execution_count": null,
      "id": "fyGfpeFnPPrN",
      "metadata": {
        "id": "fyGfpeFnPPrN"
      },
      "outputs": [],
      "source": [
        "from torch.utils.data import DataLoader\n",
        "\n",
        "train_size = int(0.8 * len(Train_dataset))\n",
        "val_size = len(Train_dataset) - train_size\n",
        "train_subset, val_subset = torch.utils.data.random_split(Train_dataset, [train_size, val_size])\n",
        "\n",
        "train_dataloader = DataLoader(train_subset, batch_size=8,shuffle=True)\n",
        "val_dataloader = DataLoader(val_subset, batch_size=8)\n"
      ]
    },
    {
      "cell_type": "code",
      "execution_count": null,
      "id": "6D_ZepOVIxiE",
      "metadata": {
        "id": "6D_ZepOVIxiE"
      },
      "outputs": [],
      "source": [
        "from torch.optim import AdamW\n",
        "from transformers import get_scheduler\n",
        "\n",
        "# Optimizer:\n",
        "optimizer = AdamW(model.parameters(), lr=1e-5)\n",
        "best_f1 = 0\n",
        "patience = 6\n",
        "count = 0\n",
        "\n",
        "num_epochs = 10\n",
        "\n",
        "num_training_steps = num_epochs * len(train_dataloader)\n",
        "lr_scheduler = get_scheduler(\n",
        "    name=\"linear\",\n",
        "    optimizer=optimizer,\n",
        "    num_warmup_steps=0,\n",
        "    num_training_steps=num_training_steps,\n",
        ")\n",
        "\n",
        "# Training loop:\n",
        "loss_train = []\n",
        "for epoch in range(4):\n",
        "\n",
        "  model.train()\n",
        "  loss_train.append([])\n",
        "  for input_ids,attention_mask,labels in train_dataloader:\n",
        "    optimizer.zero_grad()\n",
        "\n",
        "    outputs = model(\n",
        "      input_ids      = input_ids.to(device),\n",
        "      attention_mask = attention_mask.to(device),\n",
        "      labels         = labels.to(device)\n",
        "    )\n",
        "\n",
        "    loss = outputs.loss\n",
        "    loss.backward()\n",
        "    loss_train[-1].append(loss.item())\n",
        "\n",
        "    optimizer.step()\n",
        "    lr_scheduler.step()\n",
        "  loss_train[-1] = np.mean(loss_train[-1])\n",
        "\n",
        "  print(f\"Epoch {epoch+1}: loss = {loss_train[-1]:.3f}\")\n",
        "\n",
        "\n",
        "  model.eval()\n",
        "  y_true, y_pred = [], []\n",
        "  for input_ids,attention_mask,labels in val_dataloader:\n",
        "    with torch.no_grad():\n",
        "      outputs = model(\n",
        "        input_ids  = input_ids.to(device),\n",
        "        attention_mask = attention_mask.to(device)\n",
        "      )\n",
        "\n",
        "    y_pred.extend(outputs.logits.argmax(dim=1).cpu().numpy())\n",
        "    y_true.extend(labels.cpu().numpy())\n",
        "\n",
        "  validation_f1 = f1_score(y_true, y_pred, average='macro')\n",
        "\n",
        "  if validation_f1 > best_f1:\n",
        "    best_f1 = validation_f1\n",
        "    count = 0\n",
        "    torch.save(model.state_dict(),'best_model.pt')\n",
        "  else:\n",
        "    count +=1\n",
        "\n",
        "  if count>= patience:\n",
        "    break\n",
        "model.load_state_dict(torch.load('best_model.pt'))\n",
        "\n",
        "\n"
      ]
    },
    {
      "cell_type": "code",
      "execution_count": null,
      "id": "aa8b2f4c-e358-49c1-b60a-de14811b17f1",
      "metadata": {
        "id": "aa8b2f4c-e358-49c1-b60a-de14811b17f1"
      },
      "outputs": [],
      "source": [
        "# Load list of test files:\n",
        "import os\n",
        "test_files = ['data/task2/test/' + s for s in os.listdir('data/task2/test/')]\n",
        "test_files.sort()\n",
        "test_files = pd.DataFrame({'file': test_files})\n",
        "test_files.head()\n",
        "test_files['text'] = test_files['file'].apply(lambda f: open(f, 'r').read())"
      ]
    },
    {
      "cell_type": "code",
      "execution_count": null,
      "id": "q-KOtrclVF7N",
      "metadata": {
        "id": "q-KOtrclVF7N"
      },
      "outputs": [],
      "source": [
        "from torch.utils.data import TensorDataset, DataLoader\n",
        "\n",
        "test_dataset = TextDataSet_Test(test_files['file'],tokenizer)\n",
        "test_dataloader = DataLoader(test_dataset, batch_size=16)\n",
        "\n",
        "model.eval()\n",
        "predictions = []\n",
        "\n",
        "with torch.no_grad():\n",
        "    for batch in test_dataloader:\n",
        "        input_ids, attention_mask = [b.to(device) for b in batch]\n",
        "\n",
        "        outputs = model(input_ids=input_ids, attention_mask=attention_mask)\n",
        "        preds = outputs['logits'].argmax(dim=1).cpu().numpy()\n",
        "        predictions.extend(preds)\n",
        "\n",
        "\n",
        "pd.DataFrame(predictions, columns=['predictions']).to_csv('submission.csv')"
      ]
    },
    {
      "cell_type": "markdown",
      "id": "xfTjJoIZT8Ya",
      "metadata": {
        "id": "xfTjJoIZT8Ya"
      },
      "source": [
        "---\n",
        "\n",
        "*End of Task 2. Upload your final predictions (the file* `submission.csv` *) to* **Homework 2 - Code** *on* **NextIlearn**"
      ]
    },
    {
      "cell_type": "markdown",
      "id": "cdf6d753",
      "metadata": {
        "id": "cdf6d753"
      },
      "source": [
        "## 3. Simple Autoregressive Extension of BERT\n",
        "\n",
        "BERT is not autoregressive by design. Here, we try to simulate next-token prediction using BERT with causal masking.\n",
        "\n",
        "Remember, that in the MLM pretraining task, BERT is trained to predict the most probable token corresponding to the input token `'[MASK]'`.\n",
        "\n",
        "E.g.: `'[CLS] The weather is [MASK]. [SEP]'` → **BERT** → `'[CLS] The weather is great. [SEP]'`\n",
        "\n",
        "We will use this to simulate autoregression, i.e. the generation of a text token by token."
      ]
    },
    {
      "cell_type": "code",
      "execution_count": 36,
      "id": "m9os_p3_aMH1",
      "metadata": {
        "id": "m9os_p3_aMH1",
        "colab": {
          "base_uri": "https://localhost:8080/"
        },
        "outputId": "4d118481-33e7-4dff-bc1d-4f71c3461e08"
      },
      "outputs": [
        {
          "output_type": "stream",
          "name": "stderr",
          "text": [
            "Some weights of the model checkpoint at bert-base-uncased were not used when initializing BertForMaskedLM: ['bert.pooler.dense.bias', 'bert.pooler.dense.weight', 'cls.seq_relationship.bias', 'cls.seq_relationship.weight']\n",
            "- This IS expected if you are initializing BertForMaskedLM from the checkpoint of a model trained on another task or with another architecture (e.g. initializing a BertForSequenceClassification model from a BertForPreTraining model).\n",
            "- This IS NOT expected if you are initializing BertForMaskedLM from the checkpoint of a model that you expect to be exactly identical (initializing a BertForSequenceClassification model from a BertForSequenceClassification model).\n"
          ]
        },
        {
          "output_type": "execute_result",
          "data": {
            "text/plain": [
              "BertForMaskedLM(\n",
              "  (bert): BertModel(\n",
              "    (embeddings): BertEmbeddings(\n",
              "      (word_embeddings): Embedding(30522, 768, padding_idx=0)\n",
              "      (position_embeddings): Embedding(512, 768)\n",
              "      (token_type_embeddings): Embedding(2, 768)\n",
              "      (LayerNorm): LayerNorm((768,), eps=1e-12, elementwise_affine=True)\n",
              "      (dropout): Dropout(p=0.1, inplace=False)\n",
              "    )\n",
              "    (encoder): BertEncoder(\n",
              "      (layer): ModuleList(\n",
              "        (0-11): 12 x BertLayer(\n",
              "          (attention): BertAttention(\n",
              "            (self): BertSdpaSelfAttention(\n",
              "              (query): Linear(in_features=768, out_features=768, bias=True)\n",
              "              (key): Linear(in_features=768, out_features=768, bias=True)\n",
              "              (value): Linear(in_features=768, out_features=768, bias=True)\n",
              "              (dropout): Dropout(p=0.1, inplace=False)\n",
              "            )\n",
              "            (output): BertSelfOutput(\n",
              "              (dense): Linear(in_features=768, out_features=768, bias=True)\n",
              "              (LayerNorm): LayerNorm((768,), eps=1e-12, elementwise_affine=True)\n",
              "              (dropout): Dropout(p=0.1, inplace=False)\n",
              "            )\n",
              "          )\n",
              "          (intermediate): BertIntermediate(\n",
              "            (dense): Linear(in_features=768, out_features=3072, bias=True)\n",
              "            (intermediate_act_fn): GELUActivation()\n",
              "          )\n",
              "          (output): BertOutput(\n",
              "            (dense): Linear(in_features=3072, out_features=768, bias=True)\n",
              "            (LayerNorm): LayerNorm((768,), eps=1e-12, elementwise_affine=True)\n",
              "            (dropout): Dropout(p=0.1, inplace=False)\n",
              "          )\n",
              "        )\n",
              "      )\n",
              "    )\n",
              "  )\n",
              "  (cls): BertOnlyMLMHead(\n",
              "    (predictions): BertLMPredictionHead(\n",
              "      (transform): BertPredictionHeadTransform(\n",
              "        (dense): Linear(in_features=768, out_features=768, bias=True)\n",
              "        (transform_act_fn): GELUActivation()\n",
              "        (LayerNorm): LayerNorm((768,), eps=1e-12, elementwise_affine=True)\n",
              "      )\n",
              "      (decoder): Linear(in_features=768, out_features=30522, bias=True)\n",
              "    )\n",
              "  )\n",
              ")"
            ]
          },
          "metadata": {},
          "execution_count": 36
        }
      ],
      "source": [
        "from transformers import AutoModelForMaskedLM\n",
        "model = AutoModelForMaskedLM.from_pretrained('bert-base-uncased')\n",
        "model = model.to(device)\n",
        "model.eval()\n",
        "model"
      ]
    },
    {
      "cell_type": "markdown",
      "id": "nFG3FSGJa1xq",
      "metadata": {
        "id": "nFG3FSGJa1xq"
      },
      "source": [
        "An example:"
      ]
    },
    {
      "cell_type": "code",
      "execution_count": 37,
      "id": "sXVjcP3Na1Hf",
      "metadata": {
        "id": "sXVjcP3Na1Hf",
        "colab": {
          "base_uri": "https://localhost:8080/"
        },
        "outputId": "3b761b55-ca7f-4013-b86c-fa0b493c537c"
      },
      "outputs": [
        {
          "output_type": "execute_result",
          "data": {
            "text/plain": [
              "torch.Size([1, 9, 30522])"
            ]
          },
          "metadata": {},
          "execution_count": 37
        }
      ],
      "source": [
        "sentence = \"The capital of France is [MASK].\"\n",
        "\n",
        "# tokenize:\n",
        "inputs = tokenizer(sentence, return_tensors=\"pt\").to(device)\n",
        "\n",
        "# generate:\n",
        "with torch.no_grad():\n",
        "    logits = model(**inputs).logits\n",
        "\n",
        "logits.shape"
      ]
    },
    {
      "cell_type": "markdown",
      "id": "4nnCenQDbE4D",
      "metadata": {
        "id": "4nnCenQDbE4D"
      },
      "source": [
        "The shape of `logits` is:\n",
        "\n",
        "  *number of texts* $~\\times~$ *number of tokens*  $~\\times~$  *vocabulary size*\n",
        "\n",
        "→ This is a collection of token probabilities!"
      ]
    },
    {
      "cell_type": "code",
      "execution_count": 38,
      "id": "1f62ae06",
      "metadata": {
        "id": "1f62ae06",
        "colab": {
          "base_uri": "https://localhost:8080/"
        },
        "outputId": "1424ad46-47de-44aa-b0a5-5437d2da70ed"
      },
      "outputs": [
        {
          "output_type": "stream",
          "name": "stdout",
          "text": [
            "Predicted token: paris\n"
          ]
        }
      ],
      "source": [
        "# get top prediction for masked token:\n",
        "predicted_token_id = logits[0, -3].argmax(axis=-1)\n",
        "\n",
        "print(\"Predicted token:\", tokenizer.decode(predicted_token_id))\n"
      ]
    },
    {
      "cell_type": "markdown",
      "id": "bBsnBb3wcLw0",
      "metadata": {
        "id": "bBsnBb3wcLw0"
      },
      "source": [
        "Now let's make this a function:"
      ]
    },
    {
      "cell_type": "code",
      "execution_count": 39,
      "id": "EzCVG2okcPwM",
      "metadata": {
        "id": "EzCVG2okcPwM"
      },
      "outputs": [],
      "source": [
        "from typing import Optional\n",
        "def complete_text(prompt:str, max_tokens:Optional[int]=None, model=model, tokenizer=tokenizer, device=device):\n",
        "  # use the whole context window if max_tokens not specified:\n",
        "  if max_tokens is None: max_tokens = tokenizer.model_max_length - len(tokenizer(prompt).input_ids)\n",
        "\n",
        "  # pad prompt with '[MASK]' tokens to tell BERT the number of tokens:\n",
        "  prompt += ' '.join(['[MASK]']*max_tokens)\n",
        "\n",
        "  # tokenize:\n",
        "  inputs = tokenizer(prompt, return_tensors=\"pt\").to(device)\n",
        "\n",
        "  # generate token probabilities:\n",
        "  with torch.no_grad():\n",
        "    logits = model(**inputs).logits\n",
        "\n",
        "  # get top prediction for first masked token:\n",
        "  predicted_token_id = logits[0, -max_tokens-1].argmax(axis=-1).cpu().tolist()\n",
        "\n",
        "  text = tokenizer.decode(inputs.input_ids[0, 1:-max_tokens-1].cpu().tolist() + [predicted_token_id])\n",
        "\n",
        "  # end autoregression if max_tokens == 1:\n",
        "  if max_tokens == 1: return text\n",
        "\n",
        "  # end autoregression on '.' token:\n",
        "  if predicted_token_id == tokenizer.vocab['.']: return text\n",
        "\n",
        "  # end autoregression on [SEP] token:\n",
        "  if predicted_token_id == tokenizer.sep_token_id: return text\n",
        "\n",
        "  return complete_text(text, max_tokens=max_tokens-1, model=model, tokenizer=tokenizer, device=device)"
      ]
    },
    {
      "cell_type": "markdown",
      "id": "2OZzHqHBpcB7",
      "metadata": {
        "id": "2OZzHqHBpcB7"
      },
      "source": [
        "Let's see if it works:"
      ]
    },
    {
      "cell_type": "code",
      "execution_count": 40,
      "id": "LaJC3Qczczuf",
      "metadata": {
        "id": "LaJC3Qczczuf",
        "colab": {
          "base_uri": "https://localhost:8080/",
          "height": 35
        },
        "outputId": "26e3d799-789a-4815-c7ab-d1cb92191483"
      },
      "outputs": [
        {
          "output_type": "execute_result",
          "data": {
            "text/plain": [
              "'the capital of france is paris.'"
            ],
            "application/vnd.google.colaboratory.intrinsic+json": {
              "type": "string"
            }
          },
          "metadata": {},
          "execution_count": 40
        }
      ],
      "source": [
        "complete_text(\"The capital of France is \", max_tokens=2)"
      ]
    },
    {
      "cell_type": "code",
      "execution_count": 41,
      "id": "m_TzT4m0pPr4",
      "metadata": {
        "id": "m_TzT4m0pPr4",
        "colab": {
          "base_uri": "https://localhost:8080/",
          "height": 53
        },
        "outputId": "d2cf3ad5-b9ed-4c5b-8730-deabe5713792"
      },
      "outputs": [
        {
          "output_type": "execute_result",
          "data": {
            "text/plain": [
              "'the capital of france is that, that city, that city, that city, that city, that city, that city, that city, that city, that city, that city, that city, that city, that city, that city, that city, that city, that city, that city, that city, that city, that city, that city, that city, that city, that city, that city, that city, that city, that city, that city, that city, that city.'"
            ],
            "application/vnd.google.colaboratory.intrinsic+json": {
              "type": "string"
            }
          },
          "metadata": {},
          "execution_count": 41
        }
      ],
      "source": [
        "complete_text(\"The capital of France is \", max_tokens=100)"
      ]
    },
    {
      "cell_type": "markdown",
      "id": "ZyUe3phWpfGs",
      "metadata": {
        "id": "ZyUe3phWpfGs"
      },
      "source": [
        "Another example:"
      ]
    },
    {
      "cell_type": "code",
      "execution_count": 42,
      "id": "wY6fM7aJlL3J",
      "metadata": {
        "id": "wY6fM7aJlL3J",
        "colab": {
          "base_uri": "https://localhost:8080/",
          "height": 35
        },
        "outputId": "16cbf7bf-9054-42fe-aff1-9641fa47dab1"
      },
      "outputs": [
        {
          "output_type": "execute_result",
          "data": {
            "text/plain": [
              "'one plus one is equal to one.'"
            ],
            "application/vnd.google.colaboratory.intrinsic+json": {
              "type": "string"
            }
          },
          "metadata": {},
          "execution_count": 42
        }
      ],
      "source": [
        "complete_text(\"one plus one is equal to \", max_tokens=2)"
      ]
    },
    {
      "cell_type": "code",
      "execution_count": 43,
      "id": "XayEsbYEphwl",
      "metadata": {
        "id": "XayEsbYEphwl",
        "colab": {
          "base_uri": "https://localhost:8080/",
          "height": 35
        },
        "outputId": "edf5ada9-d309-41c3-95cd-b460d11ee712"
      },
      "outputs": [
        {
          "output_type": "execute_result",
          "data": {
            "text/plain": [
              "'one plus one is equal to be an old man.'"
            ],
            "application/vnd.google.colaboratory.intrinsic+json": {
              "type": "string"
            }
          },
          "metadata": {},
          "execution_count": 43
        }
      ],
      "source": [
        "complete_text(\"one plus one is equal to \")"
      ]
    }
  ],
  "metadata": {
    "accelerator": "GPU",
    "colab": {
      "gpuType": "T4",
      "provenance": []
    },
    "kernelspec": {
      "display_name": "Python 3",
      "name": "python3"
    },
    "language_info": {
      "codemirror_mode": {
        "name": "ipython",
        "version": 3
      },
      "file_extension": ".py",
      "mimetype": "text/x-python",
      "name": "python",
      "nbconvert_exporter": "python",
      "pygments_lexer": "ipython3",
      "version": "3.10.12"
    }
  },
  "nbformat": 4,
  "nbformat_minor": 5
}